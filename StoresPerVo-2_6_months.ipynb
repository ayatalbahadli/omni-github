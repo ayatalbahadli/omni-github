{
 "cells": [
  {
   "cell_type": "code",
   "execution_count": 1,
   "id": "dd545bbc",
   "metadata": {},
   "outputs": [],
   "source": [
    "import findspark\n",
    "findspark.init()\n",
    "from pyspark.sql import SparkSession\n",
    "from pyspark_dist_explore import hist\n",
    "import matplotlib.pyplot as plt\n",
    "import numpy as np\n",
    "from collections import Counter\n",
    "from datetime import datetime\n",
    "import time\n",
    "import re\n",
    "from ipaddress import ip_address\n",
    "from urllib.parse import urlparse\n",
    "import json\n",
    "import isodate\n",
    "from dateutil import parser\n",
    "from dateutil import tz\n",
    "from pyspark.sql.types import StructField, StructType, StringType\n",
    "from pyspark.sql import Row\n",
    "from pyspark.sql import functions as pyspark_function\n",
    "from urllib.request import urlopen\n",
    "import subprocess\n",
    "import os.path\n",
    "from os import path\n",
    "import numpy as np\n",
    "import matplotlib.pyplot as plt\n",
    "import pandas as pd\n",
    "from time import mktime\n",
    "import time"
   ]
  },
  {
   "cell_type": "code",
   "execution_count": 2,
   "id": "47fb2e65",
   "metadata": {},
   "outputs": [],
   "source": [
    "import findspark\n",
    "findspark.init()\n",
    "import pyspark\n",
    "import random\n",
    "from pyspark.sql.functions import *\n",
    "import pyspark.sql.functions as f\n",
    "import pyspark.sql.functions as pyf\n",
    "import numpy as np\n",
    "import pandas \n",
    "import os\n",
    "import sys\n",
    "import pandas as pd\n",
    "from pandas import DataFrame\n",
    "import numpy as np\n",
    "import matplotlib.pyplot as plt\n",
    "import matplotlib.ticker as mtick\n",
    "import matplotlib\n",
    "from mpl_toolkits.mplot3d import Axes3D\n",
    "import math\n",
    "from IPython.core.interactiveshell import InteractiveShell\n",
    "from datetime import *\n",
    "import statistics as stats\n",
    "# This helps auto print out the items without explixitly using 'print'\n",
    "InteractiveShell.ast_node_interactivity = \"all\" \n",
    "%matplotlib inline\n",
    "import pyspark\n",
    "from pyspark.rdd import RDD\n",
    "from pyspark.sql import Row\n",
    "from pyspark.sql import DataFrame\n",
    "from pyspark.sql import SparkSession\n",
    "from pyspark.sql import SQLContext\n",
    "from pyspark.sql import functions\n",
    "from pyspark.sql.functions import lit, desc, col, size, array_contains\\\n",
    ", isnan, udf, hour, array_min, array_max, countDistinct\n",
    "from pyspark.sql.types import *"
   ]
  },
  {
   "cell_type": "code",
   "execution_count": 3,
   "id": "a80508a6",
   "metadata": {},
   "outputs": [
    {
     "name": "stdout",
     "output_type": "stream",
     "text": [
      "22/07/15 15:00:36 WARN NativeCodeLoader: Unable to load native-hadoop library for your platform... using builtin-java classes where applicable\n"
     ]
    },
    {
     "name": "stderr",
     "output_type": "stream",
     "text": [
      "Setting default log level to \"WARN\".\n",
      "To adjust logging level use sc.setLogLevel(newLevel). For SparkR, use setLogLevel(newLevel).\n"
     ]
    },
    {
     "name": "stdout",
     "output_type": "stream",
     "text": [
      "22/07/15 15:00:37 WARN FairSchedulableBuilder: Fair Scheduler configuration file not found so jobs will be scheduled in FIFO order. To use fair scheduling, configure pools in fairscheduler.xml or set spark.scheduler.allocation.file to a file that contains the configuration.\n"
     ]
    }
   ],
   "source": [
    "from pyspark.sql import SparkSession\n",
    "from pyspark.sql import SQLContext\n",
    "\n",
    "\n",
    "        \n",
    "spark = SparkSession \\\n",
    "        .builder \\\n",
    "        .appName(\"Test Spark\") \\\n",
    "        .config(\"spark.jars\", \"/opt/postgresql-42.4.0.jar\") \\\n",
    "        .config(\"spark.num.executors\",\" 16\")  \\\n",
    "        .config(\"spark.executor.cores\", \"8\") \\\n",
    "        .config(\"spark.executor.memory\", \"20g\") \\\n",
    "        .config(\"spark.scheduler.mode\", \"FAIR\") \\\n",
    "        .config(\"spark.sql.autoBroadcastJoinThreshold\", -1) \\\n",
    "        .master(\"spark://131.225.58.251:7077\") \\\n",
    "        .getOrCreate() \\\n",
    "\n",
    "\n",
    "\n",
    "#spark.conf.set(\"spark.executor.memory\", \"20g\")\n",
    "#spark.conf.set(\"spark.executor.cores\", \"8\")"
   ]
  },
  {
   "cell_type": "code",
   "execution_count": 4,
   "id": "f45a4596",
   "metadata": {},
   "outputs": [
    {
     "name": "stdout",
     "output_type": "stream",
     "text": [
      "root\n",
      " |-- queuedtime: long (nullable = true)\n",
      " |-- fullsize: long (nullable = true)\n",
      " |-- storageclass: string (nullable = true)\n",
      " |-- connectiontime: long (nullable = true)\n",
      " |-- action: string (nullable = true)\n",
      " |-- cellname: string (nullable = true)\n",
      " |-- datestamp: timestamp (nullable = true)\n",
      " |-- errorcode: integer (nullable = true)\n",
      " |-- errormessage: string (nullable = true)\n",
      " |-- pnfsid: string (nullable = true)\n",
      " |-- transaction: string (nullable = true)\n",
      " |-- vo: string (nullable = true)\n",
      "\n"
     ]
    }
   ],
   "source": [
    "df = spark.read \\\n",
    "     .format(\"jdbc\") \\\n",
    "     .option(\"url\", \"jdbc:postgresql://fndca5b:5432/billing\") \\\n",
    "     .option(\"dbtable\", \"(select *,  split_part(storageclass, '.', 1) as vo from storageinfo where datestamp between '2022-01-01 00:00:00' and '2022-06-30 23:59:59') as foo\") \\\n",
    "     .option(\"user\", \"enstore_reader\") \\\n",
    "     .option(\"driver\", \"org.postgresql.Driver\") \\\n",
    "     .option(\"numPartitions\", \"16\") \\\n",
    "     .option(\"partitionColumn\", \"datestamp\") \\\n",
    "     .option(\"lowerBound\", \"2022-01-01 00:00:00\") \\\n",
    "     .option(\"upperBound\", \"2022-06-30 23:59:59\") \\\n",
    "     .option(\"fetchsize\", 1000000) \\\n",
    "     .load()\n",
    "\n",
    "df.printSchema()"
   ]
  },
  {
   "cell_type": "code",
   "execution_count": 5,
   "id": "9aa1f129",
   "metadata": {},
   "outputs": [
    {
     "data": {
      "text/html": [
       "<div>\n",
       "<style scoped>\n",
       "    .dataframe tbody tr th:only-of-type {\n",
       "        vertical-align: middle;\n",
       "    }\n",
       "\n",
       "    .dataframe tbody tr th {\n",
       "        vertical-align: top;\n",
       "    }\n",
       "\n",
       "    .dataframe thead th {\n",
       "        text-align: right;\n",
       "    }\n",
       "</style>\n",
       "<table border=\"1\" class=\"dataframe\">\n",
       "  <thead>\n",
       "    <tr style=\"text-align: right;\">\n",
       "      <th></th>\n",
       "      <th>Column Name</th>\n",
       "      <th>Data type</th>\n",
       "    </tr>\n",
       "  </thead>\n",
       "  <tbody>\n",
       "    <tr>\n",
       "      <th>0</th>\n",
       "      <td>queuedtime</td>\n",
       "      <td>bigint</td>\n",
       "    </tr>\n",
       "    <tr>\n",
       "      <th>1</th>\n",
       "      <td>fullsize</td>\n",
       "      <td>bigint</td>\n",
       "    </tr>\n",
       "    <tr>\n",
       "      <th>2</th>\n",
       "      <td>storageclass</td>\n",
       "      <td>string</td>\n",
       "    </tr>\n",
       "    <tr>\n",
       "      <th>3</th>\n",
       "      <td>connectiontime</td>\n",
       "      <td>bigint</td>\n",
       "    </tr>\n",
       "    <tr>\n",
       "      <th>4</th>\n",
       "      <td>action</td>\n",
       "      <td>string</td>\n",
       "    </tr>\n",
       "    <tr>\n",
       "      <th>5</th>\n",
       "      <td>cellname</td>\n",
       "      <td>string</td>\n",
       "    </tr>\n",
       "    <tr>\n",
       "      <th>6</th>\n",
       "      <td>datestamp</td>\n",
       "      <td>timestamp</td>\n",
       "    </tr>\n",
       "    <tr>\n",
       "      <th>7</th>\n",
       "      <td>errorcode</td>\n",
       "      <td>int</td>\n",
       "    </tr>\n",
       "    <tr>\n",
       "      <th>8</th>\n",
       "      <td>errormessage</td>\n",
       "      <td>string</td>\n",
       "    </tr>\n",
       "    <tr>\n",
       "      <th>9</th>\n",
       "      <td>pnfsid</td>\n",
       "      <td>string</td>\n",
       "    </tr>\n",
       "    <tr>\n",
       "      <th>10</th>\n",
       "      <td>transaction</td>\n",
       "      <td>string</td>\n",
       "    </tr>\n",
       "    <tr>\n",
       "      <th>11</th>\n",
       "      <td>vo</td>\n",
       "      <td>string</td>\n",
       "    </tr>\n",
       "  </tbody>\n",
       "</table>\n",
       "</div>"
      ],
      "text/plain": [
       "       Column Name  Data type\n",
       "0       queuedtime     bigint\n",
       "1         fullsize     bigint\n",
       "2     storageclass     string\n",
       "3   connectiontime     bigint\n",
       "4           action     string\n",
       "5         cellname     string\n",
       "6        datestamp  timestamp\n",
       "7        errorcode        int\n",
       "8     errormessage     string\n",
       "9           pnfsid     string\n",
       "10     transaction     string\n",
       "11              vo     string"
      ]
     },
     "execution_count": 5,
     "metadata": {},
     "output_type": "execute_result"
    }
   ],
   "source": [
    "pd.DataFrame(df.dtypes, columns = ['Column Name','Data type'])"
   ]
  },
  {
   "cell_type": "code",
   "execution_count": 6,
   "id": "d86eb5a4",
   "metadata": {},
   "outputs": [
    {
     "name": "stderr",
     "output_type": "stream",
     "text": [
      "[Stage 0:=====================================================>   (15 + 1) / 16]\r"
     ]
    },
    {
     "name": "stdout",
     "output_type": "stream",
     "text": [
      "Number of entries is    =====>  68915550  Time to execute  16.22829246520996\n"
     ]
    },
    {
     "name": "stderr",
     "output_type": "stream",
     "text": [
      "                                                                                \r"
     ]
    }
   ],
   "source": [
    "import time\n",
    "t0 = time.time()\n",
    "print(\"Number of entries is    =====> \", df.count(), \" Time to execute \", time.time()-t0)"
   ]
  },
  {
   "cell_type": "code",
   "execution_count": 7,
   "id": "0061ce32",
   "metadata": {},
   "outputs": [
    {
     "data": {
      "text/plain": [
       "DataFrame[queuedtime: bigint, fullsize: bigint, storageclass: string, connectiontime: bigint, action: string, cellname: string, datestamp: timestamp, errorcode: int, errormessage: string, pnfsid: string, transaction: string, vo: string]"
      ]
     },
     "execution_count": 7,
     "metadata": {},
     "output_type": "execute_result"
    },
    {
     "name": "stderr",
     "output_type": "stream",
     "text": [
      "[Stage 3:=====================================================>   (15 + 1) / 16]\r"
     ]
    },
    {
     "name": "stdout",
     "output_type": "stream",
     "text": [
      "Number of entries again =====>  68915550  Time to execute  410.7457363605499\n"
     ]
    },
    {
     "name": "stderr",
     "output_type": "stream",
     "text": [
      "                                                                                \r"
     ]
    }
   ],
   "source": [
    "df.createOrReplaceTempView(\"billing\")\n",
    "df.cache()\n",
    "print(\"Number of entries again =====> \", df.count(), \" Time to execute \", time.time()-t0)"
   ]
  },
  {
   "cell_type": "code",
   "execution_count": 8,
   "id": "1126164f",
   "metadata": {},
   "outputs": [
    {
     "name": "stderr",
     "output_type": "stream",
     "text": [
      "[Stage 8:>                                                          (0 + 1) / 1]\r"
     ]
    },
    {
     "name": "stdout",
     "output_type": "stream",
     "text": [
      "+---------+----------------+\n",
      "|       vo|number_of_stores|\n",
      "+---------+----------------+\n",
      "|   uboone|        14188391|\n",
      "|     nova|         6188980|\n",
      "|      GM2|         3513864|\n",
      "|     dune|         1209244|\n",
      "|   Simons|         1089287|\n",
      "|     mu2e|          623474|\n",
      "|   icarus|          573271|\n",
      "|     lqcd|          274005|\n",
      "|     ADMX|          261797|\n",
      "|  snoplus|           65781|\n",
      "|  netflow|           60280|\n",
      "|    annie|           59615|\n",
      "|     next|           23774|\n",
      "|     e906|            7699|\n",
      "|     test|            7577|\n",
      "|   lariat|            5792|\n",
      "|  accelai|            5558|\n",
      "|      des|            2197|\n",
      "|    minos|             736|\n",
      "|fermigrid|             716|\n",
      "+---------+----------------+\n",
      "only showing top 20 rows\n",
      "\n"
     ]
    },
    {
     "name": "stderr",
     "output_type": "stream",
     "text": [
      "                                                                                \r"
     ]
    }
   ],
   "source": [
    "df_vo = spark.sql(\"SELECT DISTINCT(vo), COUNT(vo) AS number_of_stores FROM billing WHERE action='store' and errorcode = 0 group by vo order by number_of_stores  desc \")\n",
    "df_vo.show()"
   ]
  },
  {
   "cell_type": "code",
   "execution_count": 9,
   "id": "05d11737",
   "metadata": {},
   "outputs": [
    {
     "name": "stderr",
     "output_type": "stream",
     "text": [
      "                                                                                \r"
     ]
    },
    {
     "data": {
      "text/plain": [
       "27"
      ]
     },
     "execution_count": 9,
     "metadata": {},
     "output_type": "execute_result"
    }
   ],
   "source": [
    "df_vo.count()"
   ]
  },
  {
   "cell_type": "code",
   "execution_count": 10,
   "id": "0427a706",
   "metadata": {},
   "outputs": [
    {
     "name": "stderr",
     "output_type": "stream",
     "text": [
      "[Stage 15:====================================================>   (15 + 1) / 16]\r"
     ]
    },
    {
     "name": "stdout",
     "output_type": "stream",
     "text": [
      "+------+\n",
      "|action|\n",
      "+------+\n",
      "| store|\n",
      "+------+\n",
      "\n"
     ]
    },
    {
     "name": "stderr",
     "output_type": "stream",
     "text": [
      "                                                                                \r"
     ]
    }
   ],
   "source": [
    "write_per_store = spark.sql(\"select DISTINCT(action) from billing where action='store'\")\n",
    "write_per_store.show()"
   ]
  },
  {
   "cell_type": "code",
   "execution_count": 11,
   "id": "68159804",
   "metadata": {},
   "outputs": [
    {
     "name": "stderr",
     "output_type": "stream",
     "text": [
      "[Stage 51:================================================>   (2141 + 8) / 2275]\r"
     ]
    },
    {
     "name": "stdout",
     "output_type": "stream",
     "text": [
      "+------+---------+----------------+\n",
      "|action|       vo|number_of_stores|\n",
      "+------+---------+----------------+\n",
      "| store|   uboone|        14188391|\n",
      "| store|     nova|         6188980|\n",
      "| store|      GM2|         3513864|\n",
      "| store|     dune|         1209244|\n",
      "| store|   Simons|         1089287|\n",
      "| store|     mu2e|          623474|\n",
      "| store|   icarus|          573271|\n",
      "| store|     lqcd|          274005|\n",
      "| store|     ADMX|          261797|\n",
      "| store|  snoplus|           65781|\n",
      "| store|  netflow|           60280|\n",
      "| store|    annie|           59615|\n",
      "| store|     next|           23774|\n",
      "| store|     e906|            7699|\n",
      "| store|     test|            7577|\n",
      "| store|   lariat|            5792|\n",
      "| store|  accelai|            5558|\n",
      "| store|      des|            2197|\n",
      "| store|    minos|             736|\n",
      "| store|fermigrid|             716|\n",
      "| store|  minerva|             443|\n",
      "| store|    e1039|             240|\n",
      "| store|    test2|              11|\n",
      "| store|  backups|               6|\n",
      "| store|    damic|               3|\n",
      "| store| darkside|               2|\n",
      "| store|     sbnd|               1|\n",
      "+------+---------+----------------+\n",
      "\n"
     ]
    },
    {
     "name": "stderr",
     "output_type": "stream",
     "text": [
      "                                                                                \r"
     ]
    }
   ],
   "source": [
    "unioned_df = write_per_store.join(df_vo)\n",
    "unioned_df.show(100)"
   ]
  },
  {
   "cell_type": "code",
   "execution_count": 12,
   "id": "a117a74c",
   "metadata": {},
   "outputs": [
    {
     "name": "stderr",
     "output_type": "stream",
     "text": [
      "[Stage 52:===============>(15 + 1) / 16][Stage 53:===============>(15 + 1) / 16]\r"
     ]
    },
    {
     "name": "stdout",
     "output_type": "stream",
     "text": [
      "   action         vo  number_of_stores\n",
      "0   store       nova           6188980\n",
      "1   store      annie             59615\n",
      "2   store       dune           1209244\n",
      "3   store      e1039               240\n",
      "4   store     Simons           1089287\n",
      "5   store      test2                11\n",
      "6   store     lariat              5792\n",
      "7   store     uboone          14188391\n",
      "8   store    accelai              5558\n",
      "9   store        des              2197\n",
      "10  store       e906              7699\n",
      "11  store    snoplus             65781\n",
      "12  store       lqcd            274005\n",
      "13  store        GM2           3513864\n",
      "14  store  fermigrid               716\n",
      "15  store       mu2e            623474\n",
      "16  store       test              7577\n",
      "17  store     icarus            573271\n",
      "18  store    minerva               443\n",
      "19  store    backups                 6\n",
      "20  store       ADMX            261797\n",
      "21  store       sbnd                 1\n",
      "22  store      minos               736\n",
      "23  store    netflow             60280\n",
      "24  store      damic                 3\n",
      "25  store       next             23774\n",
      "26  store   darkside                 2\n"
     ]
    },
    {
     "name": "stderr",
     "output_type": "stream",
     "text": [
      "                                                                                \r"
     ]
    }
   ],
   "source": [
    "d1=unioned_df.toPandas()\n",
    "print(d1)"
   ]
  },
  {
   "cell_type": "code",
   "execution_count": 13,
   "id": "9fa865fd",
   "metadata": {},
   "outputs": [],
   "source": [
    "d1=d1.sort_values(by=['number_of_stores'], ascending=False)"
   ]
  },
  {
   "cell_type": "code",
   "execution_count": 14,
   "id": "c0cb4224",
   "metadata": {},
   "outputs": [
    {
     "name": "stdout",
     "output_type": "stream",
     "text": [
      "   action         vo  number_of_stores\n",
      "7   store     uboone          14188391\n",
      "0   store       nova           6188980\n",
      "13  store        GM2           3513864\n",
      "2   store       dune           1209244\n",
      "4   store     Simons           1089287\n",
      "15  store       mu2e            623474\n",
      "17  store     icarus            573271\n",
      "12  store       lqcd            274005\n",
      "20  store       ADMX            261797\n",
      "11  store    snoplus             65781\n",
      "23  store    netflow             60280\n",
      "1   store      annie             59615\n",
      "25  store       next             23774\n",
      "10  store       e906              7699\n",
      "16  store       test              7577\n",
      "6   store     lariat              5792\n",
      "8   store    accelai              5558\n",
      "9   store        des              2197\n",
      "22  store      minos               736\n",
      "14  store  fermigrid               716\n",
      "18  store    minerva               443\n",
      "3   store      e1039               240\n",
      "5   store      test2                11\n",
      "19  store    backups                 6\n",
      "24  store      damic                 3\n",
      "26  store   darkside                 2\n",
      "21  store       sbnd                 1\n"
     ]
    }
   ],
   "source": [
    "print(d1)"
   ]
  },
  {
   "cell_type": "code",
   "execution_count": 44,
   "id": "ba820c7a",
   "metadata": {},
   "outputs": [
    {
     "data": {
      "text/plain": [
       "<AxesSubplot:xlabel='vo'>"
      ]
     },
     "execution_count": 44,
     "metadata": {},
     "output_type": "execute_result"
    },
    {
     "data": {
      "text/plain": [
       "Text(0.5, 0, 'vo')"
      ]
     },
     "execution_count": 44,
     "metadata": {},
     "output_type": "execute_result"
    },
    {
     "data": {
      "text/plain": [
       "Text(0, 0.5, 'number_of_stores')"
      ]
     },
     "execution_count": 44,
     "metadata": {},
     "output_type": "execute_result"
    },
    {
     "name": "stderr",
     "output_type": "stream",
     "text": [
      "/tmp/ipykernel_26758/2045646321.py:4: MatplotlibDeprecationWarning: savefig() got unexpected keyword argument \"fontsize\" which is no longer supported as of 3.3 and will become an error in 3.6\n",
      "  plt.savefig('stores.png' ,fontsize=24)\n"
     ]
    },
    {
     "data": {
      "text/plain": [
       "(array([ 0,  1,  2,  3,  4,  5,  6,  7,  8,  9, 10, 11, 12, 13, 14, 15, 16,\n",
       "        17, 18, 19]),\n",
       " [Text(0, 0, 'uboone'),\n",
       "  Text(1, 0, 'nova'),\n",
       "  Text(2, 0, 'GM2'),\n",
       "  Text(3, 0, 'dune'),\n",
       "  Text(4, 0, 'mu2e'),\n",
       "  Text(5, 0, 'icarus'),\n",
       "  Text(6, 0, 'next'),\n",
       "  Text(7, 0, 'annie'),\n",
       "  Text(8, 0, 'snoplus'),\n",
       "  Text(9, 0, 'lqcd'),\n",
       "  Text(10, 0, 'test'),\n",
       "  Text(11, 0, 'accelai'),\n",
       "  Text(12, 0, 'des'),\n",
       "  Text(13, 0, 'fermigrid'),\n",
       "  Text(14, 0, 'e1039'),\n",
       "  Text(15, 0, 'Simons'),\n",
       "  Text(16, 0, 'darkside'),\n",
       "  Text(17, 0, 'test2'),\n",
       "  Text(18, 0, 'lariat'),\n",
       "  Text(19, 0, 'backups')])"
      ]
     },
     "execution_count": 44,
     "metadata": {},
     "output_type": "execute_result"
    },
    {
     "data": {
      "image/png": "[encoded data removed]",
      "text/plain": [
       "<Figure size 1728x864 with 1 Axes>"
      ]
     },
     "metadata": {
      "needs_background": "light"
     },
     "output_type": "display_data"
    }
   ],
   "source": [
    "d1.plot.bar(x='vo', y='number_of_stores' , color='blue',edgecolor = 'black', alpha=0.5 ,figsize=(24,12),align='center', width=-0.4)\n",
    "plt.xlabel(\"vo\")\n",
    "plt.ylabel(\"number_of_stores\" ,fontsize=24)\n",
    "plt.savefig('stores.png' ,fontsize=24)\n",
    "plt.rcParams.update({'font.size': 14})\n",
    "plt.xticks(rotation=90)\n",
    "plt.show()"
   ]
  },
  {
   "cell_type": "code",
   "execution_count": 15,
   "id": "f95e2bbb",
   "metadata": {},
   "outputs": [
    {
     "data": {
      "text/plain": [
       "<AxesSubplot:xlabel='vo'>"
      ]
     },
     "execution_count": 15,
     "metadata": {},
     "output_type": "execute_result"
    },
    {
     "data": {
      "text/plain": [
       "Text(0.5, 0, 'vo')"
      ]
     },
     "execution_count": 15,
     "metadata": {},
     "output_type": "execute_result"
    },
    {
     "data": {
      "text/plain": [
       "Text(0, 0.5, 'number_of_stores')"
      ]
     },
     "execution_count": 15,
     "metadata": {},
     "output_type": "execute_result"
    },
    {
     "name": "stderr",
     "output_type": "stream",
     "text": [
      "/tmp/ipykernel_19643/381498126.py:4: MatplotlibDeprecationWarning: savefig() got unexpected keyword argument \"fontsize\" which is no longer supported as of 3.3 and will become an error in 3.6\n",
      "  plt.savefig('number_of_stores_6_months.png' ,fontsize=24)\n"
     ]
    },
    {
     "data": {
      "text/plain": [
       "(array([ 0,  1,  2,  3,  4,  5,  6,  7,  8,  9, 10, 11, 12, 13, 14, 15, 16,\n",
       "        17, 18, 19, 20, 21, 22, 23, 24, 25, 26]),\n",
       " [Text(0, 0, 'uboone'),\n",
       "  Text(1, 0, 'nova'),\n",
       "  Text(2, 0, 'GM2'),\n",
       "  Text(3, 0, 'dune'),\n",
       "  Text(4, 0, 'Simons'),\n",
       "  Text(5, 0, 'mu2e'),\n",
       "  Text(6, 0, 'icarus'),\n",
       "  Text(7, 0, 'lqcd'),\n",
       "  Text(8, 0, 'ADMX'),\n",
       "  Text(9, 0, 'snoplus'),\n",
       "  Text(10, 0, 'netflow'),\n",
       "  Text(11, 0, 'annie'),\n",
       "  Text(12, 0, 'next'),\n",
       "  Text(13, 0, 'e906'),\n",
       "  Text(14, 0, 'test'),\n",
       "  Text(15, 0, 'lariat'),\n",
       "  Text(16, 0, 'accelai'),\n",
       "  Text(17, 0, 'des'),\n",
       "  Text(18, 0, 'minos'),\n",
       "  Text(19, 0, 'fermigrid'),\n",
       "  Text(20, 0, 'minerva'),\n",
       "  Text(21, 0, 'e1039'),\n",
       "  Text(22, 0, 'test2'),\n",
       "  Text(23, 0, 'backups'),\n",
       "  Text(24, 0, 'damic'),\n",
       "  Text(25, 0, 'darkside'),\n",
       "  Text(26, 0, 'sbnd')])"
      ]
     },
     "execution_count": 15,
     "metadata": {},
     "output_type": "execute_result"
    },
    {
     "data": {
      "image/png": "[encoded data removed]",
      "text/plain": [
       "<Figure size 1728x864 with 1 Axes>"
      ]
     },
     "metadata": {
      "needs_background": "light"
     },
     "output_type": "display_data"
    }
   ],
   "source": [
    "d1.plot.bar(x='vo', y='number_of_stores' , color='blue',edgecolor = 'black', alpha=0.5 ,figsize=(24,12),align='center', width=-0.4)\n",
    "plt.xlabel(\"vo\")\n",
    "plt.ylabel(\"number_of_stores\" ,fontsize=24)\n",
    "plt.savefig('number_of_stores_6_months.png' ,fontsize=24)\n",
    "plt.rcParams.update({'font.size': 14})\n",
    "plt.xticks(rotation=90)\n",
    "plt.show()"
   ]
  },
  {
   "cell_type": "code",
   "execution_count": null,
   "id": "cc0be836",
   "metadata": {},
   "outputs": [],
   "source": []
  },
  {
   "cell_type": "code",
   "execution_count": null,
   "id": "252f491b",
   "metadata": {},
   "outputs": [],
   "source": []
  },
  {
   "cell_type": "code",
   "execution_count": null,
   "id": "574ad329",
   "metadata": {},
   "outputs": [],
   "source": []
  },
  {
   "cell_type": "code",
   "execution_count": null,
   "id": "0c393f7e",
   "metadata": {},
   "outputs": [],
   "source": []
  }
 ],
 "metadata": {
  "kernelspec": {
   "display_name": "Python 3 (ipykernel)",
   "language": "python",
   "name": "python3"
  },
  "language_info": {
   "codemirror_mode": {
    "name": "ipython",
    "version": 3
   },
   "file_extension": ".py",
   "mimetype": "text/x-python",
   "name": "python",
   "nbconvert_exporter": "python",
   "pygments_lexer": "ipython3",
   "version": "3.9.6"
  }
 },
 "nbformat": 4,
 "nbformat_minor": 5
}
