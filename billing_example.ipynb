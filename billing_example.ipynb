{
 "cells": [
  {
   "cell_type": "code",
   "execution_count": 1,
   "id": "6a5c28a8",
   "metadata": {},
   "outputs": [],
   "source": [
    "import findspark\n",
    "findspark.init()\n",
    "import pyspark\n",
    "import random\n",
    "from pyspark.sql.functions import *\n",
    "import pyspark.sql.functions as f\n",
    "import pyspark.sql.functions as pyf\n",
    "import numpy as np\n",
    "import pandas \n",
    "import os\n",
    "import sys\n",
    "import pandas as pd\n",
    "from pandas import DataFrame\n",
    "import numpy as np\n",
    "import matplotlib.pyplot as plt\n",
    "import matplotlib.ticker as mtick\n",
    "import matplotlib\n",
    "from mpl_toolkits.mplot3d import Axes3D\n",
    "import math\n",
    "from IPython.core.interactiveshell import InteractiveShell\n",
    "from datetime import *\n",
    "import statistics as stats\n",
    "# This helps auto print out the items without explixitly using 'print'\n",
    "InteractiveShell.ast_node_interactivity = \"all\" \n",
    "%matplotlib inline\n",
    "import pyspark\n",
    "from pyspark.rdd import RDD\n",
    "from pyspark.sql import Row\n",
    "from pyspark.sql import DataFrame\n",
    "from pyspark.sql import SparkSession\n",
    "from pyspark.sql import SQLContext\n",
    "from pyspark.sql import functions\n",
    "from pyspark.sql.functions import lit, desc, col, size, array_contains\\\n",
    ", isnan, udf, hour, array_min, array_max, countDistinct\n",
    "from pyspark.sql.types import *"
   ]
  },
  {
   "cell_type": "code",
   "execution_count": 38,
   "id": "f1720dd9",
   "metadata": {},
   "outputs": [],
   "source": [
    "import findspark\n",
    "findspark.init()\n",
    "from pyspark.sql import SparkSession\n",
    "from pyspark_dist_explore import hist\n",
    "import matplotlib.pyplot as plt\n",
    "import numpy as np\n",
    "from collections import Counter\n",
    "from datetime import datetime\n",
    "import time\n",
    "import re\n",
    "from ipaddress import ip_address\n",
    "from urllib.parse import urlparse\n",
    "import json\n",
    "import isodate\n",
    "from dateutil import parser\n",
    "from dateutil import tz\n",
    "from pyspark.sql.types import StructField, StructType, StringType\n",
    "from pyspark.sql import Row\n",
    "from pyspark.sql import functions as pyspark_function\n",
    "from urllib.request import urlopen\n",
    "import subprocess\n",
    "import os.path\n",
    "from os import path\n",
    "import numpy as np\n",
    "import matplotlib.pyplot as plt\n",
    "import pandas as pd\n"
   ]
  },
  {
   "cell_type": "code",
   "execution_count": 11,
   "id": "15def206",
   "metadata": {},
   "outputs": [],
   "source": [
    "\n",
    "                \n",
    "from pyspark.sql import SparkSession\n",
    "from pyspark.sql import SQLContext\n",
    "\n",
    "\n",
    "        \n",
    "spark = SparkSession \\\n",
    "        .builder \\\n",
    "        .appName(\"Test Spark\") \\\n",
    "        .config(\"spark.jars\", \"/opt/postgresql-42.4.0.jar\") \\\n",
    "        .config(\"spark.num.executors\",\" 16\")  \\\n",
    "        .config(\"spark.executor.cores\", \"8\") \\\n",
    "        .config(\"spark.executor.memory\", \"20g\") \\\n",
    "        .config(\"spark.scheduler.mode\", \"FAIR\") \\\n",
    "        .config(\"spark.sql.autoBroadcastJoinThreshold\", -1) \\\n",
    "        .master(\"spark://131.225.58.251:7077\") \\\n",
    "        .getOrCreate() \\\n",
    "\n",
    "\n",
    "\n",
    "#spark.conf.set(\"spark.executor.memory\", \"20g\")\n",
    "#spark.conf.set(\"spark.executor.cores\", \"8\")"
   ]
  },
  {
   "cell_type": "code",
   "execution_count": 32,
   "id": "686d2014",
   "metadata": {},
   "outputs": [
    {
     "name": "stdout",
     "output_type": "stream",
     "text": [
      "root\n",
      " |-- client: string (nullable = true)\n",
      " |-- initiator: string (nullable = true)\n",
      " |-- isnew: boolean (nullable = true)\n",
      " |-- protocol: string (nullable = true)\n",
      " |-- transfersize: long (nullable = true)\n",
      " |-- fullsize: long (nullable = true)\n",
      " |-- storageclass: string (nullable = true)\n",
      " |-- connectiontime: long (nullable = true)\n",
      " |-- action: string (nullable = true)\n",
      " |-- cellname: string (nullable = true)\n",
      " |-- datestamp: timestamp (nullable = true)\n",
      " |-- errorcode: integer (nullable = true)\n",
      " |-- errormessage: string (nullable = true)\n",
      " |-- pnfsid: string (nullable = true)\n",
      " |-- transaction: string (nullable = true)\n",
      " |-- p2p: boolean (nullable = true)\n",
      " |-- fqan: string (nullable = true)\n",
      " |-- mappeduid: integer (nullable = true)\n",
      " |-- mappedgid: integer (nullable = true)\n",
      " |-- owner: string (nullable = true)\n",
      " |-- vo: string (nullable = true)\n",
      "\n"
     ]
    }
   ],
   "source": [
    "df = spark.read \\\n",
    "     .format(\"jdbc\") \\\n",
    "     .option(\"url\", \"jdbc:postgresql://fndca5b:5432/billing\") \\\n",
    "     .option(\"dbtable\", \"(select *,  split_part(storageclass, '.', 1) as vo from billinginfo where datestamp between '2022-06-01 00:00:00' and now()) as foo\") \\\n",
    "     .option(\"user\", \"enstore_reader\") \\\n",
    "     .option(\"driver\", \"org.postgresql.Driver\") \\\n",
    "     .option(\"numPartitions\", \"16\") \\\n",
    "     .option(\"partitionColumn\", \"datestamp\") \\\n",
    "     .option(\"lowerBound\", \"2022-06-01 00:00:00\") \\\n",
    "     .option(\"upperBound\", \"2022-06-26 23:59:59\") \\\n",
    "     .option(\"fetchsize\", 1000000) \\\n",
    "     .load()\n",
    "\n",
    "df.printSchema()"
   ]
  },
  {
   "cell_type": "code",
   "execution_count": 39,
   "id": "a8822689",
   "metadata": {},
   "outputs": [
    {
     "data": {
      "text/html": [
       "<div>\n",
       "<style scoped>\n",
       "    .dataframe tbody tr th:only-of-type {\n",
       "        vertical-align: middle;\n",
       "    }\n",
       "\n",
       "    .dataframe tbody tr th {\n",
       "        vertical-align: top;\n",
       "    }\n",
       "\n",
       "    .dataframe thead th {\n",
       "        text-align: right;\n",
       "    }\n",
       "</style>\n",
       "<table border=\"1\" class=\"dataframe\">\n",
       "  <thead>\n",
       "    <tr style=\"text-align: right;\">\n",
       "      <th></th>\n",
       "      <th>Column Name</th>\n",
       "      <th>Data type</th>\n",
       "    </tr>\n",
       "  </thead>\n",
       "  <tbody>\n",
       "    <tr>\n",
       "      <th>0</th>\n",
       "      <td>client</td>\n",
       "      <td>string</td>\n",
       "    </tr>\n",
       "    <tr>\n",
       "      <th>1</th>\n",
       "      <td>initiator</td>\n",
       "      <td>string</td>\n",
       "    </tr>\n",
       "    <tr>\n",
       "      <th>2</th>\n",
       "      <td>isnew</td>\n",
       "      <td>boolean</td>\n",
       "    </tr>\n",
       "    <tr>\n",
       "      <th>3</th>\n",
       "      <td>protocol</td>\n",
       "      <td>string</td>\n",
       "    </tr>\n",
       "    <tr>\n",
       "      <th>4</th>\n",
       "      <td>transfersize</td>\n",
       "      <td>bigint</td>\n",
       "    </tr>\n",
       "    <tr>\n",
       "      <th>5</th>\n",
       "      <td>fullsize</td>\n",
       "      <td>bigint</td>\n",
       "    </tr>\n",
       "    <tr>\n",
       "      <th>6</th>\n",
       "      <td>storageclass</td>\n",
       "      <td>string</td>\n",
       "    </tr>\n",
       "    <tr>\n",
       "      <th>7</th>\n",
       "      <td>connectiontime</td>\n",
       "      <td>bigint</td>\n",
       "    </tr>\n",
       "    <tr>\n",
       "      <th>8</th>\n",
       "      <td>action</td>\n",
       "      <td>string</td>\n",
       "    </tr>\n",
       "    <tr>\n",
       "      <th>9</th>\n",
       "      <td>cellname</td>\n",
       "      <td>string</td>\n",
       "    </tr>\n",
       "    <tr>\n",
       "      <th>10</th>\n",
       "      <td>datestamp</td>\n",
       "      <td>timestamp</td>\n",
       "    </tr>\n",
       "    <tr>\n",
       "      <th>11</th>\n",
       "      <td>errorcode</td>\n",
       "      <td>int</td>\n",
       "    </tr>\n",
       "    <tr>\n",
       "      <th>12</th>\n",
       "      <td>errormessage</td>\n",
       "      <td>string</td>\n",
       "    </tr>\n",
       "    <tr>\n",
       "      <th>13</th>\n",
       "      <td>pnfsid</td>\n",
       "      <td>string</td>\n",
       "    </tr>\n",
       "    <tr>\n",
       "      <th>14</th>\n",
       "      <td>transaction</td>\n",
       "      <td>string</td>\n",
       "    </tr>\n",
       "    <tr>\n",
       "      <th>15</th>\n",
       "      <td>p2p</td>\n",
       "      <td>boolean</td>\n",
       "    </tr>\n",
       "    <tr>\n",
       "      <th>16</th>\n",
       "      <td>fqan</td>\n",
       "      <td>string</td>\n",
       "    </tr>\n",
       "    <tr>\n",
       "      <th>17</th>\n",
       "      <td>mappeduid</td>\n",
       "      <td>int</td>\n",
       "    </tr>\n",
       "    <tr>\n",
       "      <th>18</th>\n",
       "      <td>mappedgid</td>\n",
       "      <td>int</td>\n",
       "    </tr>\n",
       "    <tr>\n",
       "      <th>19</th>\n",
       "      <td>owner</td>\n",
       "      <td>string</td>\n",
       "    </tr>\n",
       "    <tr>\n",
       "      <th>20</th>\n",
       "      <td>vo</td>\n",
       "      <td>string</td>\n",
       "    </tr>\n",
       "  </tbody>\n",
       "</table>\n",
       "</div>"
      ],
      "text/plain": [
       "       Column Name  Data type\n",
       "0           client     string\n",
       "1        initiator     string\n",
       "2            isnew    boolean\n",
       "3         protocol     string\n",
       "4     transfersize     bigint\n",
       "5         fullsize     bigint\n",
       "6     storageclass     string\n",
       "7   connectiontime     bigint\n",
       "8           action     string\n",
       "9         cellname     string\n",
       "10       datestamp  timestamp\n",
       "11       errorcode        int\n",
       "12    errormessage     string\n",
       "13          pnfsid     string\n",
       "14     transaction     string\n",
       "15             p2p    boolean\n",
       "16            fqan     string\n",
       "17       mappeduid        int\n",
       "18       mappedgid        int\n",
       "19           owner     string\n",
       "20              vo     string"
      ]
     },
     "execution_count": 39,
     "metadata": {},
     "output_type": "execute_result"
    }
   ],
   "source": [
    "pd.DataFrame(df.dtypes, columns = ['Column Name','Data type'])"
   ]
  },
  {
   "cell_type": "code",
   "execution_count": 33,
   "id": "011abf28",
   "metadata": {},
   "outputs": [
    {
     "name": "stderr",
     "output_type": "stream",
     "text": [
      "[Stage 46:====================================================>   (15 + 1) / 16]\r"
     ]
    },
    {
     "name": "stdout",
     "output_type": "stream",
     "text": [
      "Number of entries is    =====>  149402080  Time to execute  127.60640096664429\n"
     ]
    },
    {
     "name": "stderr",
     "output_type": "stream",
     "text": [
      "                                                                                \r"
     ]
    }
   ],
   "source": [
    "t0 = time.time()\n",
    "print(\"Number of entries is    =====> \", df.count(), \" Time to execute \", time.time()-t0)"
   ]
  },
  {
   "cell_type": "code",
   "execution_count": 16,
   "id": "2d77f7fa",
   "metadata": {},
   "outputs": [
    {
     "name": "stderr",
     "output_type": "stream",
     "text": [
      "[Stage 3:=====================================================>   (15 + 1) / 16]\r"
     ]
    },
    {
     "name": "stdout",
     "output_type": "stream",
     "text": [
      "Number of entries again =====>  149215218  Time to execute  1050.4104778766632\n"
     ]
    },
    {
     "name": "stderr",
     "output_type": "stream",
     "text": [
      "                                                                                \r"
     ]
    }
   ],
   "source": [
    "df.createOrReplaceTempView(\"billing\")\n",
    "df.cache()\n",
    "print(\"Number of entries again =====> \", df.count(), \" Time to execute \", time.time()-t0)"
   ]
  },
  {
   "cell_type": "code",
   "execution_count": 42,
   "id": "0f0246fe",
   "metadata": {},
   "outputs": [
    {
     "name": "stderr",
     "output_type": "stream",
     "text": [
      "[Stage 50:====================================================>   (15 + 1) / 16]\r"
     ]
    },
    {
     "name": "stdout",
     "output_type": "stream",
     "text": [
      "+--------------------+-------------------+\n",
      "|        storageclass|count(storageclass)|\n",
      "+--------------------+-------------------+\n",
      "|GM2.gm2_5126A@ens...|             197000|\n",
      "|minerva.mc_recons...|             285807|\n",
      "|nova.persistent@e...|           28319213|\n",
      "|uboone.overlay_tu...|            1163034|\n",
      "|nova.raw2root_fd_...|              44424|\n",
      "|nova.raw2root_fd_...|              15382|\n",
      "|e906.persistent@e...|             101554|\n",
      "| test.dcache@enstore|               2709|\n",
      "|dune.hd-coldbox-2...|               8545|\n",
      "|lariat.scratch@en...|                700|\n",
      "|dune.dune-fardet-...|              37958|\n",
      "|mars.resilient@en...|             444503|\n",
      "|dune.protodune-sp...|             289231|\n",
      "|nova.pid_sim_fd@e...|              25458|\n",
      "|next.persistent@e...|               6160|\n",
      "|nova.cosfilt_numi...|               9474|\n",
      "|e1039.persistent@...|              14092|\n",
      "|minos.persistent@...|              25345|\n",
      "|sbnd.persistent@e...|            1902291|\n",
      "|dune.protodune-sp...|              74919|\n",
      "+--------------------+-------------------+\n",
      "only showing top 20 rows\n",
      "\n"
     ]
    },
    {
     "name": "stderr",
     "output_type": "stream",
     "text": [
      "                                                                                \r"
     ]
    }
   ],
   "source": [
    "df_uniq_storageclass = spark.sql(\"SELECT DISTINCT(storageclass),COUNT(storageclass) FROM billing GROUP BY storageclass\")\n",
    "df_uniq_storageclass.show()"
   ]
  },
  {
   "cell_type": "code",
   "execution_count": 22,
   "id": "a8994bdf",
   "metadata": {},
   "outputs": [
    {
     "name": "stderr",
     "output_type": "stream",
     "text": [
      "                                                                                \r"
     ]
    }
   ],
   "source": [
    "storage_class = \"GM2.scratch@enstore\"\n",
    "sql_query = f\"select cellname from billing where storageclass='{storage_class}' order by cellname\"\n",
    "pools = spark.sql(sql_query).collect()\n",
    "uniq_pools = spark.sql(f\"select distinct(cellname) from billing  where storageclass='{storage_class}' order by cellname\").collect()"
   ]
  },
  {
   "cell_type": "code",
   "execution_count": 29,
   "id": "70c0afc7",
   "metadata": {},
   "outputs": [],
   "source": [
    "#print(uniq_pools)"
   ]
  },
  {
   "cell_type": "code",
   "execution_count": 23,
   "id": "e120b81e",
   "metadata": {},
   "outputs": [
    {
     "data": {
      "image/png": "[encoded data removed]",
      "text/plain": [
       "<Figure size 1800x1080 with 2 Axes>"
      ]
     },
     "metadata": {},
     "output_type": "display_data"
    }
   ],
   "source": [
    "plt.rcParams.update({'font.size': 14})\n",
    "fig = plt.figure(figsize=(25, 15), dpi=72, facecolor='w')\n",
    "plt.xticks(rotation=90)\n",
    "plot = fig.add_subplot(111)\n",
    "num_bins = len(uniq_pools)\n",
    "pool_array = np.array(pools)\n",
    "n, bins, patches = plot.hist(pool_array, num_bins, facecolor='blue', alpha=0.5, align='left',rwidth=1.0)\n",
    "plt.ylabel('Entries / Pool',fontsize=24)\n",
    "plt.xlabel('Pool',fontsize=24)\n",
    "plt.xticks(fontsize=18)\n",
    "plt.yticks(fontsize=18)\n",
    "plt.show()"
   ]
  },
  {
   "cell_type": "code",
   "execution_count": 24,
   "id": "1a24e69c",
   "metadata": {},
   "outputs": [
    {
     "name": "stderr",
     "output_type": "stream",
     "text": [
      "[Stage 34:=====================================================>  (51 + 2) / 53]\r"
     ]
    },
    {
     "name": "stdout",
     "output_type": "stream",
     "text": [
      "+--------------------+--------------------+\n",
      "|            cellname|               Bytes|\n",
      "+--------------------+--------------------+\n",
      "|v-stkendca1806-1@...|15.54947172240092...|\n",
      "|v-stkendca1806-2@...|14.19709753169312...|\n",
      "|v-stkendca1806-3@...|14.26477817178174...|\n",
      "|v-stkendca1806-4@...|15.63848373957617...|\n",
      "|v-stkendca1806-5@...|16.25227787528121...|\n",
      "|v-stkendca1806-6@...|13.76150699261942...|\n",
      "|v-stkendca1815-1@...|16.33106598886532...|\n",
      "|v-stkendca1815-2@...|16.16696485328004...|\n",
      "|v-stkendca1815-3@...|14.99934778422281...|\n",
      "|v-stkendca1815-4@...|15.69977652264007...|\n",
      "|v-stkendca1815-5@...|15.40248542199137...|\n",
      "|v-stkendca1815-6@...|16.21890321862700...|\n",
      "|v-stkendca1816-1@...|16.06319823515072...|\n",
      "|v-stkendca1816-2@...|16.60421362739837...|\n",
      "|v-stkendca1816-3@...|15.43606774405810...|\n",
      "|v-stkendca1816-4@...|16.38227400432984...|\n",
      "|v-stkendca1816-5@...|16.28351107166657...|\n",
      "|v-stkendca1816-6@...|16.68605844066713...|\n",
      "|v-stkendca1901-3@...|16.95842050777277...|\n",
      "|v-stkendca1903-3@...|17.07330356965347...|\n",
      "+--------------------+--------------------+\n",
      "only showing top 20 rows\n",
      "\n"
     ]
    },
    {
     "name": "stderr",
     "output_type": "stream",
     "text": [
      "                                                                                \r"
     ]
    }
   ],
   "source": [
    "sql_query = f\"select distinct(cellname),SUM(transfersize/1024./1024./1024./1024.) OVER(PARTITION BY cellname) AS Bytes from billing where storageclass='{storage_class}' order by cellname\"\n",
    "write_per_pool = spark.sql(sql_query)\n",
    "write_per_pool.show()"
   ]
  },
  {
   "cell_type": "code",
   "execution_count": 25,
   "id": "6970d188",
   "metadata": {},
   "outputs": [
    {
     "name": "stderr",
     "output_type": "stream",
     "text": [
      "                                                                                \r"
     ]
    }
   ],
   "source": [
    "pools_array = write_per_pool.rdd.map(lambda row: row[0]).collect()\n",
    "size_array  = write_per_pool.rdd.map(lambda row: row[1]).collect()"
   ]
  },
  {
   "cell_type": "code",
   "execution_count": 26,
   "id": "b554ebfd",
   "metadata": {},
   "outputs": [
    {
     "data": {
      "image/png": "[encoded data removed]",
      "text/plain": [
       "<Figure size 1800x1080 with 2 Axes>"
      ]
     },
     "metadata": {},
     "output_type": "display_data"
    }
   ],
   "source": [
    "plt.rcParams.update({'font.size': 14})\n",
    "fig = plt.figure(figsize=(25, 15), dpi=72, facecolor='w')\n",
    "plt.xticks(rotation=90)\n",
    "plot = fig.add_subplot(111)\n",
    "plot.bar(pools_array, size_array, color='blue',edgecolor = 'black', alpha=0.5)\n",
    "plt.ylabel('Transferred Volume / Pool [1 TiB]',fontsize=24)\n",
    "plt.xlabel('Pool',fontsize=24)\n",
    "plt.xticks(fontsize=18)\n",
    "plt.yticks(fontsize=18)\n",
    "plt.show()"
   ]
  },
  {
   "cell_type": "code",
   "execution_count": null,
   "id": "e6832fb7",
   "metadata": {},
   "outputs": [],
   "source": []
  },
  {
   "cell_type": "code",
   "execution_count": null,
   "id": "8d464a75",
   "metadata": {},
   "outputs": [],
   "source": []
  },
  {
   "cell_type": "code",
   "execution_count": null,
   "id": "c42d72f7",
   "metadata": {},
   "outputs": [],
   "source": []
  }
 ],
 "metadata": {
  "kernelspec": {
   "display_name": "Python 3 (ipykernel)",
   "language": "python",
   "name": "python3"
  },
  "language_info": {
   "codemirror_mode": {
    "name": "ipython",
    "version": 3
   },
   "file_extension": ".py",
   "mimetype": "text/x-python",
   "name": "python",
   "nbconvert_exporter": "python",
   "pygments_lexer": "ipython3",
   "version": "3.9.6"
  }
 },
 "nbformat": 4,
 "nbformat_minor": 5
}
