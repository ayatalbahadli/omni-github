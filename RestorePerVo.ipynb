{
 "cells": [
  {
   "cell_type": "code",
   "execution_count": 9,
   "id": "b2df1df4",
   "metadata": {},
   "outputs": [],
   "source": [
    "import findspark\n",
    "findspark.init()\n",
    "from pyspark.sql import SparkSession\n",
    "from pyspark_dist_explore import hist\n",
    "import matplotlib.pyplot as plt\n",
    "import numpy as np\n",
    "from collections import Counter\n",
    "from datetime import datetime\n",
    "import time\n",
    "import re\n",
    "from ipaddress import ip_address\n",
    "from urllib.parse import urlparse\n",
    "import json\n",
    "import isodate\n",
    "from dateutil import parser\n",
    "from dateutil import tz\n",
    "from pyspark.sql.types import StructField, StructType, StringType\n",
    "from pyspark.sql import Row\n",
    "from pyspark.sql import functions as pyspark_function\n",
    "from urllib.request import urlopen\n",
    "import subprocess\n",
    "import os.path\n",
    "from os import path\n",
    "import numpy as np\n",
    "import matplotlib.pyplot as plt\n",
    "import pandas as pd\n",
    "from time import mktime\n"
   ]
  },
  {
   "cell_type": "code",
   "execution_count": 2,
   "id": "7ee11a1e",
   "metadata": {},
   "outputs": [],
   "source": [
    "import findspark\n",
    "findspark.init()\n",
    "import pyspark\n",
    "import random\n",
    "from pyspark.sql.functions import *\n",
    "import pyspark.sql.functions as f\n",
    "import pyspark.sql.functions as pyf\n",
    "import numpy as np\n",
    "import pandas \n",
    "import os\n",
    "import sys\n",
    "import pandas as pd\n",
    "from pandas import DataFrame\n",
    "import numpy as np\n",
    "import matplotlib.pyplot as plt\n",
    "import matplotlib.ticker as mtick\n",
    "import matplotlib\n",
    "from mpl_toolkits.mplot3d import Axes3D\n",
    "import math\n",
    "from IPython.core.interactiveshell import InteractiveShell\n",
    "from datetime import *\n",
    "import statistics as stats\n",
    "# This helps auto print out the items without explixitly using 'print'\n",
    "InteractiveShell.ast_node_interactivity = \"all\" \n",
    "%matplotlib inline\n",
    "import pyspark\n",
    "from pyspark.rdd import RDD\n",
    "from pyspark.sql import Row\n",
    "from pyspark.sql import DataFrame\n",
    "from pyspark.sql import SparkSession\n",
    "from pyspark.sql import SQLContext\n",
    "from pyspark.sql import functions\n",
    "from pyspark.sql.functions import lit, desc, col, size, array_contains\\\n",
    ", isnan, udf, hour, array_min, array_max, countDistinct\n",
    "from pyspark.sql.types import *"
   ]
  },
  {
   "cell_type": "code",
   "execution_count": 3,
   "id": "ec5a5af0",
   "metadata": {},
   "outputs": [
    {
     "name": "stdout",
     "output_type": "stream",
     "text": [
      "22/06/29 14:23:38 WARN NativeCodeLoader: Unable to load native-hadoop library for your platform... using builtin-java classes where applicable\n"
     ]
    },
    {
     "name": "stderr",
     "output_type": "stream",
     "text": [
      "Setting default log level to \"WARN\".\n",
      "To adjust logging level use sc.setLogLevel(newLevel). For SparkR, use setLogLevel(newLevel).\n"
     ]
    },
    {
     "name": "stdout",
     "output_type": "stream",
     "text": [
      "22/06/29 14:23:39 WARN FairSchedulableBuilder: Fair Scheduler configuration file not found so jobs will be scheduled in FIFO order. To use fair scheduling, configure pools in fairscheduler.xml or set spark.scheduler.allocation.file to a file that contains the configuration.\n"
     ]
    }
   ],
   "source": [
    "from pyspark.sql import SparkSession\n",
    "from pyspark.sql import SQLContext\n",
    "\n",
    "\n",
    "        \n",
    "spark = SparkSession \\\n",
    "        .builder \\\n",
    "        .appName(\"Test Spark\") \\\n",
    "        .config(\"spark.jars\", \"/opt/postgresql-42.4.0.jar\") \\\n",
    "        .config(\"spark.num.executors\",\" 16\")  \\\n",
    "        .config(\"spark.executor.cores\", \"8\") \\\n",
    "        .config(\"spark.executor.memory\", \"20g\") \\\n",
    "        .config(\"spark.scheduler.mode\", \"FAIR\") \\\n",
    "        .config(\"spark.sql.autoBroadcastJoinThreshold\", -1) \\\n",
    "        .master(\"spark://131.225.58.251:7077\") \\\n",
    "        .getOrCreate() \\\n",
    "\n",
    "\n",
    "\n",
    "#spark.conf.set(\"spark.executor.memory\", \"20g\")\n",
    "#spark.conf.set(\"spark.executor.cores\", \"8\")"
   ]
  },
  {
   "cell_type": "code",
   "execution_count": 4,
   "id": "becadf2a",
   "metadata": {},
   "outputs": [
    {
     "name": "stdout",
     "output_type": "stream",
     "text": [
      "root\n",
      " |-- queuedtime: long (nullable = true)\n",
      " |-- fullsize: long (nullable = true)\n",
      " |-- storageclass: string (nullable = true)\n",
      " |-- connectiontime: long (nullable = true)\n",
      " |-- action: string (nullable = true)\n",
      " |-- cellname: string (nullable = true)\n",
      " |-- datestamp: timestamp (nullable = true)\n",
      " |-- errorcode: integer (nullable = true)\n",
      " |-- errormessage: string (nullable = true)\n",
      " |-- pnfsid: string (nullable = true)\n",
      " |-- transaction: string (nullable = true)\n",
      " |-- vo: string (nullable = true)\n",
      "\n"
     ]
    }
   ],
   "source": [
    "df = spark.read \\\n",
    "     .format(\"jdbc\") \\\n",
    "     .option(\"url\", \"jdbc:postgresql://fndca5b:5432/billing\") \\\n",
    "     .option(\"dbtable\", \"(select *,  split_part(storageclass, '.', 1) as vo from storageinfo where datestamp between '2022-06-01 00:00:00' and now()) as foo\") \\\n",
    "     .option(\"user\", \"enstore_reader\") \\\n",
    "     .option(\"driver\", \"org.postgresql.Driver\") \\\n",
    "     .option(\"numPartitions\", \"16\") \\\n",
    "     .option(\"partitionColumn\", \"datestamp\") \\\n",
    "     .option(\"lowerBound\", \"2022-06-01 00:00:00\") \\\n",
    "     .option(\"upperBound\", \"2022-06-26 23:59:59\") \\\n",
    "     .option(\"fetchsize\", 1000000) \\\n",
    "     .load()\n",
    "\n",
    "df.printSchema()"
   ]
  },
  {
   "cell_type": "code",
   "execution_count": 5,
   "id": "f0964a29",
   "metadata": {},
   "outputs": [
    {
     "data": {
      "text/html": [
       "<div>\n",
       "<style scoped>\n",
       "    .dataframe tbody tr th:only-of-type {\n",
       "        vertical-align: middle;\n",
       "    }\n",
       "\n",
       "    .dataframe tbody tr th {\n",
       "        vertical-align: top;\n",
       "    }\n",
       "\n",
       "    .dataframe thead th {\n",
       "        text-align: right;\n",
       "    }\n",
       "</style>\n",
       "<table border=\"1\" class=\"dataframe\">\n",
       "  <thead>\n",
       "    <tr style=\"text-align: right;\">\n",
       "      <th></th>\n",
       "      <th>Column Name</th>\n",
       "      <th>Data type</th>\n",
       "    </tr>\n",
       "  </thead>\n",
       "  <tbody>\n",
       "    <tr>\n",
       "      <th>0</th>\n",
       "      <td>queuedtime</td>\n",
       "      <td>bigint</td>\n",
       "    </tr>\n",
       "    <tr>\n",
       "      <th>1</th>\n",
       "      <td>fullsize</td>\n",
       "      <td>bigint</td>\n",
       "    </tr>\n",
       "    <tr>\n",
       "      <th>2</th>\n",
       "      <td>storageclass</td>\n",
       "      <td>string</td>\n",
       "    </tr>\n",
       "    <tr>\n",
       "      <th>3</th>\n",
       "      <td>connectiontime</td>\n",
       "      <td>bigint</td>\n",
       "    </tr>\n",
       "    <tr>\n",
       "      <th>4</th>\n",
       "      <td>action</td>\n",
       "      <td>string</td>\n",
       "    </tr>\n",
       "    <tr>\n",
       "      <th>5</th>\n",
       "      <td>cellname</td>\n",
       "      <td>string</td>\n",
       "    </tr>\n",
       "    <tr>\n",
       "      <th>6</th>\n",
       "      <td>datestamp</td>\n",
       "      <td>timestamp</td>\n",
       "    </tr>\n",
       "    <tr>\n",
       "      <th>7</th>\n",
       "      <td>errorcode</td>\n",
       "      <td>int</td>\n",
       "    </tr>\n",
       "    <tr>\n",
       "      <th>8</th>\n",
       "      <td>errormessage</td>\n",
       "      <td>string</td>\n",
       "    </tr>\n",
       "    <tr>\n",
       "      <th>9</th>\n",
       "      <td>pnfsid</td>\n",
       "      <td>string</td>\n",
       "    </tr>\n",
       "    <tr>\n",
       "      <th>10</th>\n",
       "      <td>transaction</td>\n",
       "      <td>string</td>\n",
       "    </tr>\n",
       "    <tr>\n",
       "      <th>11</th>\n",
       "      <td>vo</td>\n",
       "      <td>string</td>\n",
       "    </tr>\n",
       "  </tbody>\n",
       "</table>\n",
       "</div>"
      ],
      "text/plain": [
       "       Column Name  Data type\n",
       "0       queuedtime     bigint\n",
       "1         fullsize     bigint\n",
       "2     storageclass     string\n",
       "3   connectiontime     bigint\n",
       "4           action     string\n",
       "5         cellname     string\n",
       "6        datestamp  timestamp\n",
       "7        errorcode        int\n",
       "8     errormessage     string\n",
       "9           pnfsid     string\n",
       "10     transaction     string\n",
       "11              vo     string"
      ]
     },
     "execution_count": 5,
     "metadata": {},
     "output_type": "execute_result"
    }
   ],
   "source": [
    "pd.DataFrame(df.dtypes, columns = ['Column Name','Data type'])"
   ]
  },
  {
   "cell_type": "code",
   "execution_count": 10,
   "id": "65e0bbdc",
   "metadata": {},
   "outputs": [
    {
     "name": "stderr",
     "output_type": "stream",
     "text": [
      "[Stage 2:>                                                          (0 + 1) / 1]\r"
     ]
    },
    {
     "name": "stdout",
     "output_type": "stream",
     "text": [
      "Number of entries is    =====>  13118753  Time to execute  67.26329398155212\n"
     ]
    },
    {
     "name": "stderr",
     "output_type": "stream",
     "text": [
      "                                                                                \r"
     ]
    }
   ],
   "source": [
    "t0 = time.time()\n",
    "print(\"Number of entries is    =====> \", df.count(), \" Time to execute \", time.time()-t0)"
   ]
  },
  {
   "cell_type": "code",
   "execution_count": 11,
   "id": "e0f42a91",
   "metadata": {},
   "outputs": [
    {
     "data": {
      "text/plain": [
       "DataFrame[queuedtime: bigint, fullsize: bigint, storageclass: string, connectiontime: bigint, action: string, cellname: string, datestamp: timestamp, errorcode: int, errormessage: string, pnfsid: string, transaction: string, vo: string]"
      ]
     },
     "execution_count": 11,
     "metadata": {},
     "output_type": "execute_result"
    },
    {
     "name": "stderr",
     "output_type": "stream",
     "text": [
      "[Stage 3:=====================================================>   (15 + 1) / 16]\r"
     ]
    },
    {
     "name": "stdout",
     "output_type": "stream",
     "text": [
      "Number of entries again =====>  13119034  Time to execute  143.11736750602722\n"
     ]
    },
    {
     "name": "stderr",
     "output_type": "stream",
     "text": [
      "                                                                                \r"
     ]
    }
   ],
   "source": [
    "df.createOrReplaceTempView(\"billing\")\n",
    "df.cache()\n",
    "print(\"Number of entries again =====> \", df.count(), \" Time to execute \", time.time()-t0)"
   ]
  },
  {
   "cell_type": "code",
   "execution_count": 97,
   "id": "8aff311a",
   "metadata": {},
   "outputs": [
    {
     "name": "stderr",
     "output_type": "stream",
     "text": [
      "[Stage 98:====================================================>   (15 + 1) / 16]\r"
     ]
    },
    {
     "name": "stdout",
     "output_type": "stream",
     "text": [
      "+--------+------------------+\n",
      "|      vo|number_of_restores|\n",
      "+--------+------------------+\n",
      "|  uboone|           2915928|\n",
      "| minerva|           2886461|\n",
      "|     GM2|            359564|\n",
      "|    nova|            228477|\n",
      "|    none|            163906|\n",
      "|    dune|            146812|\n",
      "| netflow|             93211|\n",
      "|  icarus|             26173|\n",
      "|  lariat|             24110|\n",
      "|    mu2e|             18065|\n",
      "|    e906|              6587|\n",
      "|darkside|               864|\n",
      "|    lqcd|               190|\n",
      "|   annie|                 7|\n",
      "| accelai|                 3|\n",
      "|    sbnd|                 1|\n",
      "|    test|                 1|\n",
      "+--------+------------------+\n",
      "\n"
     ]
    },
    {
     "name": "stderr",
     "output_type": "stream",
     "text": [
      "                                                                                \r"
     ]
    }
   ],
   "source": [
    "# df_vo = spark.sql(\"SELECT DISTINCT(vo),COUNT(vo) AS number_of_restores FROM billing WHERE action='restore' group by vo order by number_of_restores  desc \")\n",
    "# df_vo.show()"
   ]
  },
  {
   "cell_type": "code",
   "execution_count": 117,
   "id": "90694b19",
   "metadata": {},
   "outputs": [
    {
     "name": "stdout",
     "output_type": "stream",
     "text": [
      "+--------+------------------+\n",
      "|      vo|number_of_restores|\n",
      "+--------+------------------+\n",
      "|  uboone|           2877902|\n",
      "| minerva|           1354754|\n",
      "|     GM2|            342448|\n",
      "|    nova|            227416|\n",
      "|    dune|            146313|\n",
      "|    none|            132607|\n",
      "|  icarus|             25453|\n",
      "|  lariat|             23997|\n",
      "|    mu2e|             17845|\n",
      "|    e906|              6587|\n",
      "|darkside|               864|\n",
      "|    lqcd|               187|\n",
      "|   annie|                 7|\n",
      "| accelai|                 3|\n",
      "|    sbnd|                 1|\n",
      "|    test|                 1|\n",
      "+--------+------------------+\n",
      "\n"
     ]
    }
   ],
   "source": [
    "df_vo = spark.sql(\"SELECT DISTINCT(vo),COUNT(vo) AS number_of_restores FROM billing WHERE action='restore' and errorcode = 0 group by vo order by number_of_restores  desc \")\n",
    "df_vo.show()"
   ]
  },
  {
   "cell_type": "code",
   "execution_count": 118,
   "id": "0991d1c1",
   "metadata": {},
   "outputs": [
    {
     "name": "stdout",
     "output_type": "stream",
     "text": [
      "+-------+------------------+\n",
      "|     vo|number_of_restores|\n",
      "+-------+------------------+\n",
      "|minerva|           1531707|\n",
      "|netflow|             93211|\n",
      "| uboone|             38026|\n",
      "|   none|             31299|\n",
      "|    GM2|             17116|\n",
      "|   nova|              1061|\n",
      "| icarus|               720|\n",
      "|   dune|               499|\n",
      "|   mu2e|               220|\n",
      "| lariat|               113|\n",
      "|   lqcd|                 3|\n",
      "+-------+------------------+\n",
      "\n"
     ]
    }
   ],
   "source": [
    "# df_vo2 = spark.sql(\"SELECT DISTINCT(vo),COUNT(vo) AS number_of_restores FROM billing WHERE action='restore' and errorcode != 0 group by vo order by number_of_restores  desc \")\n",
    "# df_vo2.show()"
   ]
  },
  {
   "cell_type": "code",
   "execution_count": 119,
   "id": "cfc4a11d",
   "metadata": {},
   "outputs": [],
   "source": [
    "#can you print a few lines of errormessage for vo = 'minerva' errorcode !=0\n",
    "# df_vo2 = spark.sql(\"SELECT errormessage FROM billing WHERE vo = 'minerva' and action='restore' and errorcode != 0 group by errormessage \")\n",
    "# df_vo2.show()"
   ]
  },
  {
   "cell_type": "code",
   "execution_count": 120,
   "id": "a523994e",
   "metadata": {},
   "outputs": [
    {
     "name": "stderr",
     "output_type": "stream",
     "text": [
      "                                                                                \r"
     ]
    },
    {
     "data": {
      "text/plain": [
       "16"
      ]
     },
     "execution_count": 120,
     "metadata": {},
     "output_type": "execute_result"
    }
   ],
   "source": [
    "df_vo.count()"
   ]
  },
  {
   "cell_type": "code",
   "execution_count": 82,
   "id": "b66a9b12",
   "metadata": {},
   "outputs": [],
   "source": [
    "#df_time= df.withColumn(\"time\", to_date(df.datestamp))\n",
    "#df_time.select('time').show(100)"
   ]
  },
  {
   "cell_type": "code",
   "execution_count": 61,
   "id": "f8174128",
   "metadata": {},
   "outputs": [],
   "source": [
    "# restore_data = \"restore\"\n",
    "# sql_query = f\"select action from billing where action='{restore_data}' order by action\"\n",
    "# write_per_restore = spark.sql(sql_query)\n",
    "# write_per_restore.show()"
   ]
  },
  {
   "cell_type": "code",
   "execution_count": 27,
   "id": "c3500b3b",
   "metadata": {},
   "outputs": [
    {
     "name": "stdout",
     "output_type": "stream",
     "text": [
      "+-------+\n",
      "| action|\n",
      "+-------+\n",
      "|restore|\n",
      "+-------+\n",
      "\n"
     ]
    }
   ],
   "source": [
    "write_per_restore = spark.sql(\"select DISTINCT(action) from billing where action='restore'\")\n",
    "write_per_restore.show()"
   ]
  },
  {
   "cell_type": "code",
   "execution_count": 54,
   "id": "b1f935e7",
   "metadata": {},
   "outputs": [],
   "source": [
    "# pools_array = df_vo.rdd.map(lambda row: row[0]).collect()\n",
    "# size_array  = write_per_restore.rdd.map(lambda row: row[1]).collect()"
   ]
  },
  {
   "cell_type": "code",
   "execution_count": 56,
   "id": "4e56f426",
   "metadata": {},
   "outputs": [],
   "source": [
    "#df_vo.join(write_per_restore, \"outer\")"
   ]
  },
  {
   "cell_type": "code",
   "execution_count": 121,
   "id": "7be4a622",
   "metadata": {},
   "outputs": [
    {
     "name": "stderr",
     "output_type": "stream",
     "text": [
      "[Stage 237:=================================================> (2433 + 8) / 2500]\r"
     ]
    },
    {
     "name": "stdout",
     "output_type": "stream",
     "text": [
      "+-------+--------+------------------+\n",
      "| action|      vo|number_of_restores|\n",
      "+-------+--------+------------------+\n",
      "|restore|  uboone|           2877902|\n",
      "|restore| minerva|           1354754|\n",
      "|restore|     GM2|            342448|\n",
      "|restore|    nova|            227416|\n",
      "|restore|    dune|            146313|\n",
      "|restore|    none|            132607|\n",
      "|restore|  icarus|             25453|\n",
      "|restore|  lariat|             23997|\n",
      "|restore|    mu2e|             17845|\n",
      "|restore|    e906|              6587|\n",
      "|restore|darkside|               864|\n",
      "|restore|    lqcd|               187|\n",
      "|restore|   annie|                 7|\n",
      "|restore| accelai|                 3|\n",
      "|restore|    test|                 1|\n",
      "|restore|    sbnd|                 1|\n",
      "+-------+--------+------------------+\n",
      "\n"
     ]
    },
    {
     "name": "stderr",
     "output_type": "stream",
     "text": [
      "                                                                                \r"
     ]
    }
   ],
   "source": [
    "unioned_df = write_per_restore.join(df_vo)\n",
    "unioned_df.show(100)"
   ]
  },
  {
   "cell_type": "code",
   "execution_count": null,
   "id": "29620159",
   "metadata": {},
   "outputs": [],
   "source": []
  },
  {
   "cell_type": "code",
   "execution_count": 122,
   "id": "5c9789eb",
   "metadata": {},
   "outputs": [
    {
     "name": "stdout",
     "output_type": "stream",
     "text": [
      "     action        vo  number_of_restores\n",
      "0   restore      nova              227416\n",
      "1   restore   minerva             1354754\n",
      "2   restore      dune              146313\n",
      "3   restore      none              132607\n",
      "4   restore    uboone             2877902\n",
      "5   restore      lqcd                 187\n",
      "6   restore       GM2              342448\n",
      "7   restore      mu2e               17845\n",
      "8   restore     annie                   7\n",
      "9   restore    lariat               23997\n",
      "10  restore  darkside                 864\n",
      "11  restore    icarus               25453\n",
      "12  restore      sbnd                   1\n",
      "13  restore      e906                6587\n",
      "14  restore      test                   1\n",
      "15  restore   accelai                   3\n"
     ]
    }
   ],
   "source": [
    "d1=unioned_df.toPandas()\n",
    "print(d1)"
   ]
  },
  {
   "cell_type": "code",
   "execution_count": 50,
   "id": "a80f1e50",
   "metadata": {},
   "outputs": [],
   "source": [
    "#d2= d1.groupby(['number_of_restores']).sum()"
   ]
  },
  {
   "cell_type": "code",
   "execution_count": 51,
   "id": "d6c13b69",
   "metadata": {},
   "outputs": [],
   "source": [
    "#print(d2)"
   ]
  },
  {
   "cell_type": "code",
   "execution_count": 123,
   "id": "8431e155",
   "metadata": {},
   "outputs": [],
   "source": [
    "d1=d1.sort_values(by=['number_of_restores'], ascending=False)"
   ]
  },
  {
   "cell_type": "code",
   "execution_count": 124,
   "id": "28261c6f",
   "metadata": {},
   "outputs": [
    {
     "name": "stdout",
     "output_type": "stream",
     "text": [
      "     action        vo  number_of_restores\n",
      "4   restore    uboone             2877902\n",
      "1   restore   minerva             1354754\n",
      "6   restore       GM2              342448\n",
      "0   restore      nova              227416\n",
      "2   restore      dune              146313\n",
      "3   restore      none              132607\n",
      "11  restore    icarus               25453\n",
      "9   restore    lariat               23997\n",
      "7   restore      mu2e               17845\n",
      "13  restore      e906                6587\n",
      "10  restore  darkside                 864\n",
      "5   restore      lqcd                 187\n",
      "8   restore     annie                   7\n",
      "15  restore   accelai                   3\n",
      "12  restore      sbnd                   1\n",
      "14  restore      test                   1\n"
     ]
    }
   ],
   "source": [
    "print(d1)"
   ]
  },
  {
   "cell_type": "code",
   "execution_count": 127,
   "id": "66fcdfd7",
   "metadata": {},
   "outputs": [
    {
     "data": {
      "text/plain": [
       "<AxesSubplot:xlabel='vo'>"
      ]
     },
     "execution_count": 127,
     "metadata": {},
     "output_type": "execute_result"
    },
    {
     "data": {
      "text/plain": [
       "Text(0.5, 0, 'vo')"
      ]
     },
     "execution_count": 127,
     "metadata": {},
     "output_type": "execute_result"
    },
    {
     "data": {
      "text/plain": [
       "Text(0, 0.5, 'number_of_restores')"
      ]
     },
     "execution_count": 127,
     "metadata": {},
     "output_type": "execute_result"
    },
    {
     "name": "stderr",
     "output_type": "stream",
     "text": [
      "/tmp/ipykernel_131317/210314548.py:5: MatplotlibDeprecationWarning: savefig() got unexpected keyword argument \"fontsize\" which is no longer supported as of 3.3 and will become an error in 3.6\n",
      "  plt.savefig('name.png' ,fontsize=24)\n"
     ]
    },
    {
     "data": {
      "text/plain": [
       "(array([ 0,  1,  2,  3,  4,  5,  6,  7,  8,  9, 10, 11, 12, 13, 14, 15]),\n",
       " [Text(0, 0, 'uboone'),\n",
       "  Text(1, 0, 'minerva'),\n",
       "  Text(2, 0, 'GM2'),\n",
       "  Text(3, 0, 'nova'),\n",
       "  Text(4, 0, 'dune'),\n",
       "  Text(5, 0, 'none'),\n",
       "  Text(6, 0, 'icarus'),\n",
       "  Text(7, 0, 'lariat'),\n",
       "  Text(8, 0, 'mu2e'),\n",
       "  Text(9, 0, 'e906'),\n",
       "  Text(10, 0, 'darkside'),\n",
       "  Text(11, 0, 'lqcd'),\n",
       "  Text(12, 0, 'annie'),\n",
       "  Text(13, 0, 'accelai'),\n",
       "  Text(14, 0, 'sbnd'),\n",
       "  Text(15, 0, 'test')])"
      ]
     },
     "execution_count": 127,
     "metadata": {},
     "output_type": "execute_result"
    },
    {
     "data": {
      "image/png": "[encoded data removed]",
      "text/plain": [
       "<Figure size 1728x864 with 1 Axes>"
      ]
     },
     "metadata": {
      "needs_background": "light"
     },
     "output_type": "display_data"
    }
   ],
   "source": [
    "#plt.bar(d1, color='blue',edgecolor = 'black', alpha=0.5 ,figsize=(24,12), align='edge', width=-0.4)\n",
    "d1.plot.bar(x='vo', y='number_of_restores' , color='blue',edgecolor = 'black', alpha=0.5 ,figsize=(24,12),align='center', width=-0.4)\n",
    "plt.xlabel(\"vo\")\n",
    "plt.ylabel(\"number_of_restores\" ,fontsize=24)\n",
    "plt.savefig('name.png' ,fontsize=24)\n",
    "plt.rcParams.update({'font.size': 14})\n",
    "plt.xticks(rotation=90)\n",
    "plt.show()\n",
    "#plt.ylabel(\"No.of students\")\n",
    "# plt.ylabel('number_of_restores',fontsize=24)\n",
    "# plt.xlabel('vo',fontsize=24)\n",
    "# plt.xticks(fontsize=18)\n",
    "# plt.yticks(fontsize=18)\n",
    "#d1.plot.bar()"
   ]
  },
  {
   "cell_type": "code",
   "execution_count": null,
   "id": "7c099d4b",
   "metadata": {},
   "outputs": [],
   "source": []
  },
  {
   "cell_type": "code",
   "execution_count": null,
   "id": "63815cf3",
   "metadata": {},
   "outputs": [],
   "source": []
  },
  {
   "cell_type": "code",
   "execution_count": null,
   "id": "a76b0b09",
   "metadata": {},
   "outputs": [],
   "source": []
  },
  {
   "cell_type": "code",
   "execution_count": null,
   "id": "5780a773",
   "metadata": {},
   "outputs": [],
   "source": []
  },
  {
   "cell_type": "code",
   "execution_count": null,
   "id": "6424938b",
   "metadata": {},
   "outputs": [],
   "source": []
  },
  {
   "cell_type": "code",
   "execution_count": null,
   "id": "8a0aef62",
   "metadata": {},
   "outputs": [],
   "source": [
    "# df1=df.where(df.action=='restore').select(['action','vo','date'])\n",
    "# df1.show(100)\n",
    "# print(\"Number of entries is \", df1.count())\n",
    "# df1.groupBy('vo').count().select('vo', f.col('count').alias('count')).show()\n",
    "# df2=df1.withColumn('count', df1['vo'].groupBy('vo').count().select('vo', f.col('count').alias('count')))\n",
    "# from pyspark.sql import Window\n",
    "# w = Window.partitionBy('action')\n",
    "# df.select('action','vo','date', f.count('action').over(w).alias('count')).sort('action','vo','date').show(100)\n",
    "# df1=df.where(df.action=='restore').select(['action','vo','date'])\n",
    "# df1.show(100)\n",
    "# spark.conf.set(\"spark.sql.execution.arrow.pyspark.enabled\", \"true\")\n",
    "# spark.conf.set(\n",
    "#     \"spark.sql.execution.arrow.pyspark.fallback.enabled\", \"true\")\n",
    "# pd_df = df1.toPandas()\n",
    "# print(pd_df)\n",
    "# pd_df.groupby(['date']).sum('action'.count)\n"
   ]
  },
  {
   "cell_type": "code",
   "execution_count": null,
   "id": "df23d25d",
   "metadata": {},
   "outputs": [],
   "source": []
  },
  {
   "cell_type": "code",
   "execution_count": null,
   "id": "c49ad67d",
   "metadata": {},
   "outputs": [],
   "source": []
  },
  {
   "cell_type": "code",
   "execution_count": null,
   "id": "782dfc38",
   "metadata": {},
   "outputs": [],
   "source": []
  },
  {
   "cell_type": "code",
   "execution_count": null,
   "id": "32e430d1",
   "metadata": {},
   "outputs": [],
   "source": []
  },
  {
   "cell_type": "code",
   "execution_count": null,
   "id": "aec49b5e",
   "metadata": {},
   "outputs": [],
   "source": []
  }
 ],
 "metadata": {
  "kernelspec": {
   "display_name": "Python 3 (ipykernel)",
   "language": "python",
   "name": "python3"
  },
  "language_info": {
   "codemirror_mode": {
    "name": "ipython",
    "version": 3
   },
   "file_extension": ".py",
   "mimetype": "text/x-python",
   "name": "python",
   "nbconvert_exporter": "python",
   "pygments_lexer": "ipython3",
   "version": "3.9.6"
  }
 },
 "nbformat": 4,
 "nbformat_minor": 5
}
