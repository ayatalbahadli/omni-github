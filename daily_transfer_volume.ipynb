{
 "cells": [
  {
   "cell_type": "code",
   "execution_count": null,
   "id": "17735856",
   "metadata": {},
   "outputs": [],
   "source": []
  },
  {
   "cell_type": "code",
   "execution_count": 1,
   "id": "fb711ea6",
   "metadata": {},
   "outputs": [
    {
     "name": "stdout",
     "output_type": "stream",
     "text": [
      "22/06/28 16:21:26 WARN NativeCodeLoader: Unable to load native-hadoop library for your platform... using builtin-java classes where applicable\n"
     ]
    },
    {
     "name": "stderr",
     "output_type": "stream",
     "text": [
      "Setting default log level to \"WARN\".\n",
      "To adjust logging level use sc.setLogLevel(newLevel). For SparkR, use setLogLevel(newLevel).\n"
     ]
    }
   ],
   "source": [
    "from pyspark.sql import SparkSession\n",
    "from pyspark.sql import SQLContext\n",
    "\n",
    "\n",
    "        \n",
    "spark = SparkSession \\\n",
    "        .builder \\\n",
    "        .appName(\"Test Spark\") \\\n",
    "        .config(\"spark.jars\", \"/opt/postgresql-42.4.0.jar\") \\\n",
    "        .config(\"spark.executor.memory\", \"20g\") \\\n",
    "        .master(\"spark://131.225.58.251:7077\") \\\n",
    "        .getOrCreate() \\\n",
    "\n",
    "\n",
    "\n",
    "#spark.conf.set(\"spark.executor.memory\", \"20g\")\n",
    "#spark.conf.set(\"spark.executor.cores\", \"8\")\n",
    "\n",
    "\n",
    "\n"
   ]
  },
  {
   "cell_type": "code",
   "execution_count": 2,
   "id": "ce60c301",
   "metadata": {},
   "outputs": [],
   "source": [
    "df = spark.read \\\n",
    "     .format(\"jdbc\") \\\n",
    "     .option(\"url\", \"jdbc:postgresql://fndca5b:5432/billing\") \\\n",
    "     .option(\"dbtable\", \"(select *,  split_part(storageclass, '.', 1) as vo from billinginfo where datestamp > '2022-06-21 00:00:00') as foo\") \\\n",
    "     .option(\"user\", \"enstore_reader\") \\\n",
    "     .option(\"driver\", \"org.postgresql.Driver\") \\\n",
    "     .option(\"numPartitions\", \"16\") \\\n",
    "     .option(\"partitionColumn\", \"datestamp\") \\\n",
    "     .option(\"lowerBound\", \"2022-06-21 00:00:00\") \\\n",
    "     .option(\"upperBound\", \"2022-06-27 23:59:59\") \\\n",
    "     .option(\"fetchsize\", 1000000) \\\n",
    "     .load()\n",
    "\n"
   ]
  },
  {
   "cell_type": "code",
   "execution_count": 3,
   "id": "bb4c3790",
   "metadata": {
    "scrolled": true
   },
   "outputs": [
    {
     "name": "stderr",
     "output_type": "stream",
     "text": [
      "[Stage 0:=====================================================>   (15 + 1) / 16]\r"
     ]
    },
    {
     "name": "stdout",
     "output_type": "stream",
     "text": [
      "Number of entries is  58376963\n"
     ]
    },
    {
     "name": "stderr",
     "output_type": "stream",
     "text": [
      "                                                                                \r"
     ]
    }
   ],
   "source": [
    "print(\"Number of entries is \", df.count())\n"
   ]
  },
  {
   "cell_type": "code",
   "execution_count": 4,
   "id": "c14796d7",
   "metadata": {},
   "outputs": [
    {
     "name": "stderr",
     "output_type": "stream",
     "text": [
      "[Stage 3:>                                                          (0 + 1) / 1]\r"
     ]
    },
    {
     "name": "stdout",
     "output_type": "stream",
     "text": [
      "+-------------------+\n",
      "|               date|\n",
      "+-------------------+\n",
      "|2022-06-21 00:00:00|\n",
      "|2022-06-21 00:00:00|\n",
      "|2022-06-21 00:00:00|\n",
      "|2022-06-21 00:00:00|\n",
      "|2022-06-21 00:00:00|\n",
      "|2022-06-21 00:00:00|\n",
      "|2022-06-21 00:00:00|\n",
      "|2022-06-21 00:00:00|\n",
      "|2022-06-21 00:00:00|\n",
      "|2022-06-21 00:00:00|\n",
      "|2022-06-21 00:00:00|\n",
      "|2022-06-21 00:00:00|\n",
      "|2022-06-21 00:00:00|\n",
      "|2022-06-21 00:00:00|\n",
      "|2022-06-21 00:00:00|\n",
      "|2022-06-21 00:00:00|\n",
      "|2022-06-21 00:00:00|\n",
      "|2022-06-21 00:00:00|\n",
      "|2022-06-21 00:00:00|\n",
      "|2022-06-21 00:00:00|\n",
      "+-------------------+\n",
      "only showing top 20 rows\n",
      "\n"
     ]
    },
    {
     "name": "stderr",
     "output_type": "stream",
     "text": [
      "                                                                                \r"
     ]
    }
   ],
   "source": [
    "from pyspark.sql import functions as F\n",
    "df= df.withColumn(\"date\", F.date_trunc('hour',F.to_timestamp(\"datestamp\",\"yyyy-MM-dd HH:mm:ss 'UTC'\")))\n",
    "df.select('date').show()"
   ]
  },
  {
   "cell_type": "code",
   "execution_count": 5,
   "id": "bc225ce0",
   "metadata": {},
   "outputs": [
    {
     "name": "stderr",
     "output_type": "stream",
     "text": [
      "[Stage 4:>                                                          (0 + 1) / 1]\r"
     ]
    },
    {
     "name": "stdout",
     "output_type": "stream",
     "text": [
      "+-------------------+------------+\n",
      "|               date|transfersize|\n",
      "+-------------------+------------+\n",
      "|2022-06-21 00:00:00|      221795|\n",
      "|2022-06-21 00:00:00|    88948745|\n",
      "|2022-06-21 00:00:00|    77494528|\n",
      "|2022-06-21 00:00:00|    76669370|\n",
      "|2022-06-21 00:00:00|    77173056|\n",
      "|2022-06-21 00:00:00|    71436341|\n",
      "|2022-06-21 00:00:00|    77616233|\n",
      "|2022-06-21 00:00:00|           2|\n",
      "|2022-06-21 00:00:00|          10|\n",
      "|2022-06-21 00:00:00|          10|\n",
      "|2022-06-21 00:00:00|    75375666|\n",
      "|2022-06-21 00:00:00|    91613582|\n",
      "|2022-06-21 00:00:00|    74592293|\n",
      "|2022-06-21 00:00:00|   522410540|\n",
      "|2022-06-21 00:00:00|        4583|\n",
      "|2022-06-21 00:00:00|      106973|\n",
      "|2022-06-21 00:00:00|         100|\n",
      "|2022-06-21 00:00:00|    70892595|\n",
      "|2022-06-21 00:00:00|    82517319|\n",
      "|2022-06-21 00:00:00|         750|\n",
      "+-------------------+------------+\n",
      "only showing top 20 rows\n",
      "\n"
     ]
    },
    {
     "name": "stderr",
     "output_type": "stream",
     "text": [
      "                                                                                \r"
     ]
    }
   ],
   "source": [
    "df1= df.select('date' ,'transfersize' )\n",
    "df1.show()"
   ]
  },
  {
   "cell_type": "code",
   "execution_count": 6,
   "id": "e6a37c80",
   "metadata": {},
   "outputs": [],
   "source": [
    "import findspark\n",
    "findspark.init()\n",
    "import pyspark\n",
    "import random\n",
    "from pyspark.sql.functions import *\n",
    "import pyspark.sql.functions as f\n",
    "import pyspark.sql.functions as pyf\n",
    "import numpy as np\n",
    "import pandas "
   ]
  },
  {
   "cell_type": "code",
   "execution_count": 7,
   "id": "63336517",
   "metadata": {},
   "outputs": [],
   "source": [
    "import os\n",
    "import sys\n",
    "import pandas as pd\n",
    "from pandas import DataFrame\n",
    "import numpy as np\n",
    "import matplotlib.pyplot as plt\n",
    "import matplotlib.ticker as mtick\n",
    "import matplotlib\n",
    "from mpl_toolkits.mplot3d import Axes3D\n",
    "import math\n",
    "from IPython.core.interactiveshell import InteractiveShell\n",
    "from datetime import *\n",
    "import statistics as stats\n",
    "# This helps auto print out the items without explixitly using 'print'\n",
    "InteractiveShell.ast_node_interactivity = \"all\" \n",
    "%matplotlib inline"
   ]
  },
  {
   "cell_type": "code",
   "execution_count": 8,
   "id": "8afe96cb",
   "metadata": {},
   "outputs": [
    {
     "data": {
      "text/plain": [
       "pyspark.sql.dataframe.DataFrame"
      ]
     },
     "execution_count": 8,
     "metadata": {},
     "output_type": "execute_result"
    }
   ],
   "source": [
    "type(df1)"
   ]
  },
  {
   "cell_type": "code",
   "execution_count": 9,
   "id": "b1f1996f",
   "metadata": {},
   "outputs": [],
   "source": [
    "spark.conf.set(\"spark.sql.execution.arrow.pyspark.enabled\", \"true\")\n",
    "spark.conf.set(\n",
    "    \"spark.sql.execution.arrow.pyspark.fallback.enabled\", \"true\")"
   ]
  },
  {
   "cell_type": "code",
   "execution_count": 10,
   "id": "cd1cebbf",
   "metadata": {},
   "outputs": [
    {
     "name": "stderr",
     "output_type": "stream",
     "text": [
      "                                                                                \r"
     ]
    }
   ],
   "source": [
    "pd_df = df1.toPandas()\n",
    "#print(pd_df)"
   ]
  },
  {
   "cell_type": "code",
   "execution_count": 11,
   "id": "46e9e525",
   "metadata": {},
   "outputs": [
    {
     "name": "stdout",
     "output_type": "stream",
     "text": [
      "                        date  transfersize\n",
      "0        2022-06-21 00:00:00        221795\n",
      "1        2022-06-21 00:00:00      88948745\n",
      "2        2022-06-21 00:00:00      77494528\n",
      "3        2022-06-21 00:00:00      76669370\n",
      "4        2022-06-21 00:00:00      77173056\n",
      "...                      ...           ...\n",
      "58399543 2022-06-28 16:00:00          6945\n",
      "58399544 2022-06-28 16:00:00          1088\n",
      "58399545 2022-06-28 16:00:00     339096854\n",
      "58399546 2022-06-28 16:00:00             2\n",
      "58399547 2022-06-28 16:00:00         10837\n",
      "\n",
      "[58399548 rows x 2 columns]\n"
     ]
    }
   ],
   "source": [
    "print(pd_df)"
   ]
  },
  {
   "cell_type": "code",
   "execution_count": 12,
   "id": "27f65c8c",
   "metadata": {},
   "outputs": [],
   "source": [
    "#import pandasql as ps\n",
    "#ps.sqldf(\"\" )"
   ]
  },
  {
   "cell_type": "code",
   "execution_count": 13,
   "id": "86e17759",
   "metadata": {},
   "outputs": [],
   "source": [
    "#pd_df['transfersize']=pd_df['transfersize'].div(2^39)\n",
    "#pd_df['transfersize']=pd_df['transfersize'].div(1e+12)\n",
    "#pd_df['transfersize']=pd_df['transfersize'].div(2^40)\n",
    "#pd_df['transfersize']=pd_df['transfersize'].div(1<<40)\n",
    "#pd_df['transfersize']=pd_df['transfersize'].replace('\\s\\w+','').astype(float).div(1000)\n",
    "pd_df['transfersize']=pd_df['transfersize'].div(math.pow(2, 40))\n",
    "#pd_df['transfersize']=pd_df['transfersize'].div(1000)"
   ]
  },
  {
   "cell_type": "code",
   "execution_count": 14,
   "id": "1bf92f92",
   "metadata": {},
   "outputs": [
    {
     "name": "stdout",
     "output_type": "stream",
     "text": [
      "                        date  transfersize\n",
      "0        2022-06-21 00:00:00  2.017214e-07\n",
      "1        2022-06-21 00:00:00  8.089841e-05\n",
      "2        2022-06-21 00:00:00  7.048086e-05\n",
      "3        2022-06-21 00:00:00  6.973039e-05\n",
      "4        2022-06-21 00:00:00  7.018849e-05\n",
      "...                      ...           ...\n",
      "58399543 2022-06-28 16:00:00  6.316441e-09\n",
      "58399544 2022-06-28 16:00:00  9.895302e-10\n",
      "58399545 2022-06-28 16:00:00  3.084068e-04\n",
      "58399546 2022-06-28 16:00:00  1.818989e-12\n",
      "58399547 2022-06-28 16:00:00  9.856194e-09\n",
      "\n",
      "[58399548 rows x 2 columns]\n"
     ]
    }
   ],
   "source": [
    "print(pd_df)"
   ]
  },
  {
   "cell_type": "code",
   "execution_count": 15,
   "id": "048c0233",
   "metadata": {},
   "outputs": [
    {
     "data": {
      "text/html": [
       "<div>\n",
       "<style scoped>\n",
       "    .dataframe tbody tr th:only-of-type {\n",
       "        vertical-align: middle;\n",
       "    }\n",
       "\n",
       "    .dataframe tbody tr th {\n",
       "        vertical-align: top;\n",
       "    }\n",
       "\n",
       "    .dataframe thead th {\n",
       "        text-align: right;\n",
       "    }\n",
       "</style>\n",
       "<table border=\"1\" class=\"dataframe\">\n",
       "  <thead>\n",
       "    <tr style=\"text-align: right;\">\n",
       "      <th></th>\n",
       "      <th>transfersize</th>\n",
       "    </tr>\n",
       "    <tr>\n",
       "      <th>date</th>\n",
       "      <th></th>\n",
       "    </tr>\n",
       "  </thead>\n",
       "  <tbody>\n",
       "    <tr>\n",
       "      <th>2022-06-21 00:00:00</th>\n",
       "      <td>26.004821</td>\n",
       "    </tr>\n",
       "    <tr>\n",
       "      <th>2022-06-21 01:00:00</th>\n",
       "      <td>27.416167</td>\n",
       "    </tr>\n",
       "    <tr>\n",
       "      <th>2022-06-21 02:00:00</th>\n",
       "      <td>27.349680</td>\n",
       "    </tr>\n",
       "    <tr>\n",
       "      <th>2022-06-21 03:00:00</th>\n",
       "      <td>30.672053</td>\n",
       "    </tr>\n",
       "    <tr>\n",
       "      <th>2022-06-21 04:00:00</th>\n",
       "      <td>22.400393</td>\n",
       "    </tr>\n",
       "    <tr>\n",
       "      <th>...</th>\n",
       "      <td>...</td>\n",
       "    </tr>\n",
       "    <tr>\n",
       "      <th>2022-06-28 12:00:00</th>\n",
       "      <td>28.210709</td>\n",
       "    </tr>\n",
       "    <tr>\n",
       "      <th>2022-06-28 13:00:00</th>\n",
       "      <td>21.475893</td>\n",
       "    </tr>\n",
       "    <tr>\n",
       "      <th>2022-06-28 14:00:00</th>\n",
       "      <td>19.774022</td>\n",
       "    </tr>\n",
       "    <tr>\n",
       "      <th>2022-06-28 15:00:00</th>\n",
       "      <td>37.890174</td>\n",
       "    </tr>\n",
       "    <tr>\n",
       "      <th>2022-06-28 16:00:00</th>\n",
       "      <td>23.688422</td>\n",
       "    </tr>\n",
       "  </tbody>\n",
       "</table>\n",
       "<p>185 rows × 1 columns</p>\n",
       "</div>"
      ],
      "text/plain": [
       "                     transfersize\n",
       "date                             \n",
       "2022-06-21 00:00:00     26.004821\n",
       "2022-06-21 01:00:00     27.416167\n",
       "2022-06-21 02:00:00     27.349680\n",
       "2022-06-21 03:00:00     30.672053\n",
       "2022-06-21 04:00:00     22.400393\n",
       "...                           ...\n",
       "2022-06-28 12:00:00     28.210709\n",
       "2022-06-28 13:00:00     21.475893\n",
       "2022-06-28 14:00:00     19.774022\n",
       "2022-06-28 15:00:00     37.890174\n",
       "2022-06-28 16:00:00     23.688422\n",
       "\n",
       "[185 rows x 1 columns]"
      ]
     },
     "execution_count": 15,
     "metadata": {},
     "output_type": "execute_result"
    }
   ],
   "source": [
    "pd_df.groupby(['date']).sum()"
   ]
  },
  {
   "cell_type": "code",
   "execution_count": 16,
   "id": "29c1966d",
   "metadata": {},
   "outputs": [
    {
     "name": "stderr",
     "output_type": "stream",
     "text": [
      "/tmp/ipykernel_129078/2637148350.py:1: FutureWarning: Dropping of nuisance columns in DataFrame reductions (with 'numeric_only=None') is deprecated; in a future version this will raise TypeError.  Select only valid columns before calling the reduction.\n",
      "  pd5=pd_df.sum()\n"
     ]
    }
   ],
   "source": [
    "pd5=pd_df.sum()"
   ]
  },
  {
   "cell_type": "code",
   "execution_count": 17,
   "id": "0fde8323",
   "metadata": {},
   "outputs": [
    {
     "name": "stdout",
     "output_type": "stream",
     "text": [
      "transfersize    4366.546969\n",
      "dtype: float64\n"
     ]
    }
   ],
   "source": [
    "print(pd5)"
   ]
  },
  {
   "cell_type": "code",
   "execution_count": 18,
   "id": "d656fd05",
   "metadata": {},
   "outputs": [
    {
     "name": "stdout",
     "output_type": "stream",
     "text": [
      "                     transfersize\n",
      "date                             \n",
      "2022-06-21 00:00:00     26.004821\n",
      "2022-06-21 01:00:00     27.416167\n",
      "2022-06-21 02:00:00     27.349680\n",
      "2022-06-21 03:00:00     30.672053\n",
      "2022-06-21 04:00:00     22.400393\n",
      "...                           ...\n",
      "2022-06-28 12:00:00     28.210709\n",
      "2022-06-28 13:00:00     21.475893\n",
      "2022-06-28 14:00:00     19.774022\n",
      "2022-06-28 15:00:00     37.890174\n",
      "2022-06-28 16:00:00     23.688422\n",
      "\n",
      "[185 rows x 1 columns]\n"
     ]
    }
   ],
   "source": [
    "pd4=pd_df.groupby(['date']).sum()\n",
    "print(pd4)"
   ]
  },
  {
   "cell_type": "code",
   "execution_count": 19,
   "id": "4393e5ad",
   "metadata": {},
   "outputs": [
    {
     "data": {
      "text/plain": [
       "<AxesSubplot:xlabel='date'>"
      ]
     },
     "execution_count": 19,
     "metadata": {},
     "output_type": "execute_result"
    },
    {
     "data": {
      "image/png": "[encoded data removed]",
      "text/plain": [
       "<Figure size 432x288 with 1 Axes>"
      ]
     },
     "metadata": {
      "needs_background": "light"
     },
     "output_type": "display_data"
    },
    {
     "name": "stdout",
     "output_type": "stream",
     "text": [
      "22/06/28 17:15:11 ERROR StandaloneSchedulerBackend: Application has been killed. Reason: Master removed our application: KILLED\n",
      "22/06/28 17:15:11 ERROR Inbox: Ignoring error\n",
      "org.apache.spark.SparkException: Exiting due to error from cluster scheduler: Master removed our application: KILLED\n",
      "\tat org.apache.spark.errors.SparkCoreErrors$.clusterSchedulerError(SparkCoreErrors.scala:218)\n",
      "\tat org.apache.spark.scheduler.TaskSchedulerImpl.error(TaskSchedulerImpl.scala:923)\n",
      "\tat org.apache.spark.scheduler.cluster.StandaloneSchedulerBackend.dead(StandaloneSchedulerBackend.scala:154)\n",
      "\tat org.apache.spark.deploy.client.StandaloneAppClient$ClientEndpoint.markDead(StandaloneAppClient.scala:262)\n",
      "\tat org.apache.spark.deploy.client.StandaloneAppClient$ClientEndpoint$$anonfun$receive$1.applyOrElse(StandaloneAppClient.scala:169)\n",
      "\tat org.apache.spark.rpc.netty.Inbox.$anonfun$process$1(Inbox.scala:115)\n",
      "\tat org.apache.spark.rpc.netty.Inbox.safelyCall(Inbox.scala:213)\n",
      "\tat org.apache.spark.rpc.netty.Inbox.process(Inbox.scala:100)\n",
      "\tat org.apache.spark.rpc.netty.MessageLoop.org$apache$spark$rpc$netty$MessageLoop$$receiveLoop(MessageLoop.scala:75)\n",
      "\tat org.apache.spark.rpc.netty.MessageLoop$$anon$1.run(MessageLoop.scala:41)\n",
      "\tat java.base/java.util.concurrent.ThreadPoolExecutor.runWorker(ThreadPoolExecutor.java:1128)\n",
      "\tat java.base/java.util.concurrent.ThreadPoolExecutor$Worker.run(ThreadPoolExecutor.java:628)\n",
      "\tat java.base/java.lang.Thread.run(Thread.java:829)\n"
     ]
    }
   ],
   "source": [
    "pd4.plot(kind = 'line')"
   ]
  },
  {
   "cell_type": "code",
   "execution_count": null,
   "id": "d3b10d66",
   "metadata": {},
   "outputs": [],
   "source": []
  },
  {
   "cell_type": "code",
   "execution_count": null,
   "id": "8415eca0",
   "metadata": {},
   "outputs": [],
   "source": []
  },
  {
   "cell_type": "code",
   "execution_count": null,
   "id": "6c6f3d72",
   "metadata": {},
   "outputs": [],
   "source": []
  },
  {
   "cell_type": "code",
   "execution_count": null,
   "id": "c4cf1bfa",
   "metadata": {},
   "outputs": [],
   "source": []
  },
  {
   "cell_type": "code",
   "execution_count": null,
   "id": "7ca5b9fa",
   "metadata": {},
   "outputs": [],
   "source": []
  }
 ],
 "metadata": {
  "kernelspec": {
   "display_name": "Python 3 (ipykernel)",
   "language": "python",
   "name": "python3"
  },
  "language_info": {
   "codemirror_mode": {
    "name": "ipython",
    "version": 3
   },
   "file_extension": ".py",
   "mimetype": "text/x-python",
   "name": "python",
   "nbconvert_exporter": "python",
   "pygments_lexer": "ipython3",
   "version": "3.9.6"
  }
 },
 "nbformat": 4,
 "nbformat_minor": 5
}
