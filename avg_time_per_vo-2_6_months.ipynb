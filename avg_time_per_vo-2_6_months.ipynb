{
 "cells": [
  {
   "cell_type": "code",
   "execution_count": 1,
   "id": "0d0c7059",
   "metadata": {},
   "outputs": [],
   "source": [
    "from matplotlib import pyplot\n",
    "import findspark\n",
    "findspark.init()\n",
    "from pyspark.sql import SparkSession\n",
    "from pyspark_dist_explore import hist\n",
    "import matplotlib.pyplot as plt\n",
    "import numpy as np\n",
    "from collections import Counter\n",
    "from datetime import datetime\n",
    "import time\n",
    "import re\n",
    "from ipaddress import ip_address\n",
    "from urllib.parse import urlparse\n",
    "import json\n",
    "import isodate\n",
    "from dateutil import parser\n",
    "from dateutil import tz\n",
    "from pyspark.sql.types import StructField, StructType, StringType\n",
    "from pyspark.sql import Row\n",
    "from pyspark.sql import functions as pyspark_function\n",
    "from urllib.request import urlopen\n",
    "import subprocess\n",
    "import os.path\n",
    "from os import path\n",
    "import numpy as np\n",
    "import matplotlib.pyplot as plt\n",
    "import pandas as pd\n",
    "from time import mktime\n",
    "import time\n",
    "from datetime import date, timedelta, datetime, tzinfo\n",
    "import time"
   ]
  },
  {
   "cell_type": "code",
   "execution_count": 2,
   "id": "89846880",
   "metadata": {},
   "outputs": [],
   "source": [
    "import pyspark\n",
    "import random\n",
    "from pyspark.sql.functions import *\n",
    "import pyspark.sql.functions as f\n",
    "import pyspark.sql.functions as pyf\n",
    "import numpy as np\n",
    "import pandas \n",
    "import os\n",
    "import sys\n",
    "import pandas as pd\n",
    "from pandas import DataFrame\n",
    "import numpy as np\n",
    "import matplotlib.pyplot as plt\n",
    "import matplotlib.ticker as mtick\n",
    "import matplotlib\n",
    "from mpl_toolkits.mplot3d import Axes3D\n",
    "import math\n",
    "from IPython.core.interactiveshell import InteractiveShell\n",
    "from datetime import *\n",
    "import statistics as stats\n",
    "# This helps auto print out the items without explixitly using 'print'\n",
    "InteractiveShell.ast_node_interactivity = \"all\" \n",
    "%matplotlib inline\n",
    "import pyspark\n",
    "from pyspark.rdd import RDD\n",
    "from pyspark.sql import Row\n",
    "from pyspark.sql import DataFrame\n",
    "from pyspark.sql import SparkSession\n",
    "from pyspark.sql import SQLContext\n",
    "from pyspark.sql import functions\n",
    "from pyspark.sql.functions import lit, desc, col, size, array_contains\\\n",
    ", isnan, udf, hour, array_min, array_max, countDistinct\n",
    "from pyspark.sql.types import *\n",
    "pd.set_option('display.max_columns', None)\n",
    "pd.set_option('display.max_rows', None)"
   ]
  },
  {
   "cell_type": "code",
   "execution_count": 3,
   "id": "e8dbf5a3",
   "metadata": {},
   "outputs": [
    {
     "name": "stdout",
     "output_type": "stream",
     "text": [
      "22/07/20 15:29:54 WARN NativeCodeLoader: Unable to load native-hadoop library for your platform... using builtin-java classes where applicable\n"
     ]
    },
    {
     "name": "stderr",
     "output_type": "stream",
     "text": [
      "Setting default log level to \"WARN\".\n",
      "To adjust logging level use sc.setLogLevel(newLevel). For SparkR, use setLogLevel(newLevel).\n"
     ]
    },
    {
     "name": "stdout",
     "output_type": "stream",
     "text": [
      "22/07/20 15:29:55 WARN FairSchedulableBuilder: Fair Scheduler configuration file not found so jobs will be scheduled in FIFO order. To use fair scheduling, configure pools in fairscheduler.xml or set spark.scheduler.allocation.file to a file that contains the configuration.\n"
     ]
    }
   ],
   "source": [
    "from pyspark.sql import SparkSession\n",
    "from pyspark.sql import SQLContext\n",
    "\n",
    "\n",
    "        \n",
    "spark = SparkSession \\\n",
    "        .builder \\\n",
    "        .appName(\"Test Spark\") \\\n",
    "        .config(\"spark.jars\", \"/opt/postgresql-42.4.0.jar\") \\\n",
    "        .config(\"spark.num.executors\",\" 16\")  \\\n",
    "        .config(\"spark.executor.cores\", \"8\") \\\n",
    "        .config(\"spark.executor.memory\", \"20g\") \\\n",
    "        .config(\"spark.scheduler.mode\", \"FAIR\") \\\n",
    "        .config(\"spark.sql.autoBroadcastJoinThreshold\", -1) \\\n",
    "        .master(\"spark://131.225.58.251:7077\") \\\n",
    "        .getOrCreate() \\\n",
    "\n",
    "\n",
    "\n",
    "#spark.conf.set(\"spark.executor.memory\", \"20g\")\n",
    "#spark.conf.set(\"spark.executor.cores\", \"8\")"
   ]
  },
  {
   "cell_type": "code",
   "execution_count": 4,
   "id": "d863aa3b",
   "metadata": {},
   "outputs": [
    {
     "name": "stdout",
     "output_type": "stream",
     "text": [
      "root\n",
      " |-- queuedtime: long (nullable = true)\n",
      " |-- fullsize: long (nullable = true)\n",
      " |-- storageclass: string (nullable = true)\n",
      " |-- connectiontime: long (nullable = true)\n",
      " |-- action: string (nullable = true)\n",
      " |-- cellname: string (nullable = true)\n",
      " |-- datestamp: timestamp (nullable = true)\n",
      " |-- errorcode: integer (nullable = true)\n",
      " |-- errormessage: string (nullable = true)\n",
      " |-- pnfsid: string (nullable = true)\n",
      " |-- transaction: string (nullable = true)\n",
      " |-- vo: string (nullable = true)\n",
      " |-- date: timestamp (nullable = true)\n",
      "\n"
     ]
    }
   ],
   "source": [
    "df = spark.read \\\n",
    "     .format(\"jdbc\") \\\n",
    "     .option(\"url\", \"jdbc:postgresql://fndca5b:5432/billing\") \\\n",
    "     .option(\"dbtable\", \"(select *,  split_part(storageclass, '.', 1) as vo, date_trunc('hour', datestamp) as date from storageinfo where datestamp between '2022-01-01 00:00:00' and '2022-06-30 23:59:59' ) as foo\") \\\n",
    "     .option(\"user\", \"enstore_reader\") \\\n",
    "     .option(\"driver\", \"org.postgresql.Driver\") \\\n",
    "     .option(\"numPartitions\", \"16\") \\\n",
    "     .option(\"partitionColumn\", \"datestamp\") \\\n",
    "     .option(\"lowerBound\", \"2022-01-01 00:00:00\") \\\n",
    "     .option(\"upperBound\", \"2022-06-30 23:59:59\") \\\n",
    "     .option(\"fetchsize\", 10000000) \\\n",
    "     .load()\n",
    "\n",
    "df.printSchema()"
   ]
  },
  {
   "cell_type": "code",
   "execution_count": 5,
   "id": "bbc45072",
   "metadata": {},
   "outputs": [
    {
     "data": {
      "text/html": [
       "<div>\n",
       "<style scoped>\n",
       "    .dataframe tbody tr th:only-of-type {\n",
       "        vertical-align: middle;\n",
       "    }\n",
       "\n",
       "    .dataframe tbody tr th {\n",
       "        vertical-align: top;\n",
       "    }\n",
       "\n",
       "    .dataframe thead th {\n",
       "        text-align: right;\n",
       "    }\n",
       "</style>\n",
       "<table border=\"1\" class=\"dataframe\">\n",
       "  <thead>\n",
       "    <tr style=\"text-align: right;\">\n",
       "      <th></th>\n",
       "      <th>Column Name</th>\n",
       "      <th>Data type</th>\n",
       "    </tr>\n",
       "  </thead>\n",
       "  <tbody>\n",
       "    <tr>\n",
       "      <th>0</th>\n",
       "      <td>queuedtime</td>\n",
       "      <td>bigint</td>\n",
       "    </tr>\n",
       "    <tr>\n",
       "      <th>1</th>\n",
       "      <td>fullsize</td>\n",
       "      <td>bigint</td>\n",
       "    </tr>\n",
       "    <tr>\n",
       "      <th>2</th>\n",
       "      <td>storageclass</td>\n",
       "      <td>string</td>\n",
       "    </tr>\n",
       "    <tr>\n",
       "      <th>3</th>\n",
       "      <td>connectiontime</td>\n",
       "      <td>bigint</td>\n",
       "    </tr>\n",
       "    <tr>\n",
       "      <th>4</th>\n",
       "      <td>action</td>\n",
       "      <td>string</td>\n",
       "    </tr>\n",
       "    <tr>\n",
       "      <th>5</th>\n",
       "      <td>cellname</td>\n",
       "      <td>string</td>\n",
       "    </tr>\n",
       "    <tr>\n",
       "      <th>6</th>\n",
       "      <td>datestamp</td>\n",
       "      <td>timestamp</td>\n",
       "    </tr>\n",
       "    <tr>\n",
       "      <th>7</th>\n",
       "      <td>errorcode</td>\n",
       "      <td>int</td>\n",
       "    </tr>\n",
       "    <tr>\n",
       "      <th>8</th>\n",
       "      <td>errormessage</td>\n",
       "      <td>string</td>\n",
       "    </tr>\n",
       "    <tr>\n",
       "      <th>9</th>\n",
       "      <td>pnfsid</td>\n",
       "      <td>string</td>\n",
       "    </tr>\n",
       "    <tr>\n",
       "      <th>10</th>\n",
       "      <td>transaction</td>\n",
       "      <td>string</td>\n",
       "    </tr>\n",
       "    <tr>\n",
       "      <th>11</th>\n",
       "      <td>vo</td>\n",
       "      <td>string</td>\n",
       "    </tr>\n",
       "    <tr>\n",
       "      <th>12</th>\n",
       "      <td>date</td>\n",
       "      <td>timestamp</td>\n",
       "    </tr>\n",
       "  </tbody>\n",
       "</table>\n",
       "</div>"
      ],
      "text/plain": [
       "       Column Name  Data type\n",
       "0       queuedtime     bigint\n",
       "1         fullsize     bigint\n",
       "2     storageclass     string\n",
       "3   connectiontime     bigint\n",
       "4           action     string\n",
       "5         cellname     string\n",
       "6        datestamp  timestamp\n",
       "7        errorcode        int\n",
       "8     errormessage     string\n",
       "9           pnfsid     string\n",
       "10     transaction     string\n",
       "11              vo     string\n",
       "12            date  timestamp"
      ]
     },
     "execution_count": 5,
     "metadata": {},
     "output_type": "execute_result"
    }
   ],
   "source": [
    "pd.DataFrame(df.dtypes, columns = ['Column Name','Data type'])"
   ]
  },
  {
   "cell_type": "code",
   "execution_count": 6,
   "id": "d80b362f",
   "metadata": {},
   "outputs": [
    {
     "name": "stderr",
     "output_type": "stream",
     "text": [
      "[Stage 0:=====================================================>   (15 + 1) / 16]\r"
     ]
    },
    {
     "name": "stdout",
     "output_type": "stream",
     "text": [
      "Number of entries is    =====>  68915550  Time to execute  550.6428737640381\n"
     ]
    },
    {
     "name": "stderr",
     "output_type": "stream",
     "text": [
      "                                                                                \r"
     ]
    }
   ],
   "source": [
    "import time\n",
    "t0 = time.time()\n",
    "print(\"Number of entries is    =====> \", df.count(), \" Time to execute \", time.time()-t0)"
   ]
  },
  {
   "cell_type": "code",
   "execution_count": 7,
   "id": "d350e8e2",
   "metadata": {},
   "outputs": [
    {
     "data": {
      "text/plain": [
       "DataFrame[queuedtime: bigint, fullsize: bigint, storageclass: string, connectiontime: bigint, action: string, cellname: string, datestamp: timestamp, errorcode: int, errormessage: string, pnfsid: string, transaction: string, vo: string, date: timestamp]"
      ]
     },
     "execution_count": 7,
     "metadata": {},
     "output_type": "execute_result"
    },
    {
     "name": "stderr",
     "output_type": "stream",
     "text": [
      "[Stage 3:=====================================================>   (15 + 1) / 16]\r"
     ]
    },
    {
     "name": "stdout",
     "output_type": "stream",
     "text": [
      "Number of entries again =====>  68915550  Time to execute  3059.02796125412\n"
     ]
    },
    {
     "name": "stderr",
     "output_type": "stream",
     "text": [
      "                                                                                \r"
     ]
    }
   ],
   "source": [
    "df.createOrReplaceTempView(\"storage\")\n",
    "df.cache()\n",
    "print(\"Number of entries again =====> \", df.count(), \" Time to execute \", time.time()-t0)"
   ]
  },
  {
   "cell_type": "code",
   "execution_count": 8,
   "id": "e2d76da7",
   "metadata": {},
   "outputs": [
    {
     "name": "stderr",
     "output_type": "stream",
     "text": [
      "[Stage 6:>                                                        (0 + 16) / 16]\r"
     ]
    },
    {
     "name": "stdout",
     "output_type": "stream",
     "text": [
      "22/07/20 16:21:13 ERROR TaskSetManager: Total size of serialized results of 5 tasks (1086.6 MiB) is bigger than spark.driver.maxResultSize (1024.0 MiB)\n",
      "22/07/20 16:21:13 WARN TaskSetManager: Lost task 2.0 in stage 6.0 (TID 36) (131.225.161.159 executor 11): TaskKilled (Tasks result size has exceeded maxResultSize)\n",
      "22/07/20 16:21:13 ERROR TaskSetManager: Total size of serialized results of 6 tasks (1350.9 MiB) is bigger than spark.driver.maxResultSize (1024.0 MiB)\n",
      "22/07/20 16:21:13 WARN TaskSetManager: Lost task 4.0 in stage 6.0 (TID 48) (131.225.161.161 executor 14): TaskKilled (Tasks result size has exceeded maxResultSize)\n",
      "22/07/20 16:21:13 WARN TaskSetManager: Lost task 7.0 in stage 6.0 (TID 49) (131.225.161.153 executor 13): TaskKilled (Stage cancelled)\n",
      "22/07/20 16:21:13 WARN TaskSetManager: Lost task 11.0 in stage 6.0 (TID 41) (131.225.161.163 executor 7): TaskKilled (Stage cancelled)\n",
      "22/07/20 16:21:13 WARN TaskSetManager: Lost task 13.0 in stage 6.0 (TID 39) (131.225.161.158 executor 3): TaskKilled (Stage cancelled)\n",
      "22/07/20 16:21:13 WARN TaskSetManager: Lost task 8.0 in stage 6.0 (TID 40) (131.225.161.152 executor 9): TaskKilled (Stage cancelled)\n",
      "22/07/20 16:21:13 WARN TaskSetManager: Lost task 14.0 in stage 6.0 (TID 45) (131.225.161.156 executor 8): TaskKilled (Stage cancelled)\n"
     ]
    },
    {
     "name": "stderr",
     "output_type": "stream",
     "text": [
      "[Stage 6:===>                                                      (1 + 7) / 16]\r"
     ]
    },
    {
     "name": "stdout",
     "output_type": "stream",
     "text": [
      "22/07/20 16:21:13 WARN TaskSetManager: Lost task 3.0 in stage 6.0 (TID 42) (131.225.161.162 executor 2): TaskKilled (Stage cancelled)\n",
      "22/07/20 16:21:13 ERROR TaskSetManager: Total size of serialized results of 7 tasks (1630.1 MiB) is bigger than spark.driver.maxResultSize (1024.0 MiB)\n",
      "22/07/20 16:21:13 WARN TaskSetManager: Lost task 6.0 in stage 6.0 (TID 34) (131.225.161.155 executor 6): TaskKilled (Tasks result size has exceeded maxResultSize)\n"
     ]
    },
    {
     "name": "stderr",
     "output_type": "stream",
     "text": [
      "[Stage 6:=======>                                                  (2 + 4) / 16]\r"
     ]
    },
    {
     "name": "stdout",
     "output_type": "stream",
     "text": [
      "22/07/20 16:21:13 ERROR TaskSetManager: Total size of serialized results of 8 tasks (1909.1 MiB) is bigger than spark.driver.maxResultSize (1024.0 MiB)\n",
      "22/07/20 16:21:13 WARN TaskSetManager: Lost task 12.0 in stage 6.0 (TID 38) (131.225.161.157 executor 10): TaskKilled (Tasks result size has exceeded maxResultSize)\n",
      "22/07/20 16:21:14 ERROR TaskSetManager: Total size of serialized results of 9 tasks (2.2 GiB) is bigger than spark.driver.maxResultSize (1024.0 MiB)\n",
      "22/07/20 16:21:14 WARN TaskSetManager: Lost task 10.0 in stage 6.0 (TID 44) (131.225.161.154 executor 1): TaskKilled (Tasks result size has exceeded maxResultSize)\n"
     ]
    },
    {
     "name": "stderr",
     "output_type": "stream",
     "text": [
      "[Stage 6:=======>                                                  (2 + 3) / 16]\r"
     ]
    },
    {
     "name": "stdout",
     "output_type": "stream",
     "text": [
      "22/07/20 16:21:14 ERROR TaskSetManager: Total size of serialized results of 10 tasks (2.5 GiB) is bigger than spark.driver.maxResultSize (1024.0 MiB)\n",
      "22/07/20 16:21:14 WARN TaskSetManager: Lost task 15.0 in stage 6.0 (TID 47) (131.225.161.160 executor 4): TaskKilled (Tasks result size has exceeded maxResultSize)\n"
     ]
    },
    {
     "ename": "Py4JJavaError",
     "evalue": "An error occurred while calling o50.collectToPython.\n: org.apache.spark.SparkException: Job aborted due to stage failure: Total size of serialized results of 5 tasks (1086.6 MiB) is bigger than spark.driver.maxResultSize (1024.0 MiB)\n\tat org.apache.spark.scheduler.DAGScheduler.failJobAndIndependentStages(DAGScheduler.scala:2672)\n\tat org.apache.spark.scheduler.DAGScheduler.$anonfun$abortStage$2(DAGScheduler.scala:2608)\n\tat org.apache.spark.scheduler.DAGScheduler.$anonfun$abortStage$2$adapted(DAGScheduler.scala:2607)\n\tat scala.collection.mutable.ResizableArray.foreach(ResizableArray.scala:62)\n\tat scala.collection.mutable.ResizableArray.foreach$(ResizableArray.scala:55)\n\tat scala.collection.mutable.ArrayBuffer.foreach(ArrayBuffer.scala:49)\n\tat org.apache.spark.scheduler.DAGScheduler.abortStage(DAGScheduler.scala:2607)\n\tat org.apache.spark.scheduler.DAGScheduler.$anonfun$handleTaskSetFailed$1(DAGScheduler.scala:1182)\n\tat org.apache.spark.scheduler.DAGScheduler.$anonfun$handleTaskSetFailed$1$adapted(DAGScheduler.scala:1182)\n\tat scala.Option.foreach(Option.scala:407)\n\tat org.apache.spark.scheduler.DAGScheduler.handleTaskSetFailed(DAGScheduler.scala:1182)\n\tat org.apache.spark.scheduler.DAGSchedulerEventProcessLoop.doOnReceive(DAGScheduler.scala:2860)\n\tat org.apache.spark.scheduler.DAGSchedulerEventProcessLoop.onReceive(DAGScheduler.scala:2802)\n\tat org.apache.spark.scheduler.DAGSchedulerEventProcessLoop.onReceive(DAGScheduler.scala:2791)\n\tat org.apache.spark.util.EventLoop$$anon$1.run(EventLoop.scala:49)\n\tat org.apache.spark.scheduler.DAGScheduler.runJob(DAGScheduler.scala:952)\n\tat org.apache.spark.SparkContext.runJob(SparkContext.scala:2228)\n\tat org.apache.spark.SparkContext.runJob(SparkContext.scala:2249)\n\tat org.apache.spark.SparkContext.runJob(SparkContext.scala:2268)\n\tat org.apache.spark.SparkContext.runJob(SparkContext.scala:2293)\n\tat org.apache.spark.rdd.RDD.$anonfun$collect$1(RDD.scala:1021)\n\tat org.apache.spark.rdd.RDDOperationScope$.withScope(RDDOperationScope.scala:151)\n\tat org.apache.spark.rdd.RDDOperationScope$.withScope(RDDOperationScope.scala:112)\n\tat org.apache.spark.rdd.RDD.withScope(RDD.scala:406)\n\tat org.apache.spark.rdd.RDD.collect(RDD.scala:1020)\n\tat org.apache.spark.sql.execution.SparkPlan.executeCollect(SparkPlan.scala:424)\n\tat org.apache.spark.sql.Dataset.$anonfun$collectToPython$1(Dataset.scala:3688)\n\tat org.apache.spark.sql.Dataset.$anonfun$withAction$2(Dataset.scala:3858)\n\tat org.apache.spark.sql.execution.QueryExecution$.withInternalError(QueryExecution.scala:510)\n\tat org.apache.spark.sql.Dataset.$anonfun$withAction$1(Dataset.scala:3856)\n\tat org.apache.spark.sql.execution.SQLExecution$.$anonfun$withNewExecutionId$6(SQLExecution.scala:109)\n\tat org.apache.spark.sql.execution.SQLExecution$.withSQLConfPropagated(SQLExecution.scala:169)\n\tat org.apache.spark.sql.execution.SQLExecution$.$anonfun$withNewExecutionId$1(SQLExecution.scala:95)\n\tat org.apache.spark.sql.SparkSession.withActive(SparkSession.scala:779)\n\tat org.apache.spark.sql.execution.SQLExecution$.withNewExecutionId(SQLExecution.scala:64)\n\tat org.apache.spark.sql.Dataset.withAction(Dataset.scala:3856)\n\tat org.apache.spark.sql.Dataset.collectToPython(Dataset.scala:3685)\n\tat java.base/jdk.internal.reflect.NativeMethodAccessorImpl.invoke0(Native Method)\n\tat java.base/jdk.internal.reflect.NativeMethodAccessorImpl.invoke(NativeMethodAccessorImpl.java:62)\n\tat java.base/jdk.internal.reflect.DelegatingMethodAccessorImpl.invoke(DelegatingMethodAccessorImpl.java:43)\n\tat java.base/java.lang.reflect.Method.invoke(Method.java:566)\n\tat py4j.reflection.MethodInvoker.invoke(MethodInvoker.java:244)\n\tat py4j.reflection.ReflectionEngine.invoke(ReflectionEngine.java:357)\n\tat py4j.Gateway.invoke(Gateway.java:282)\n\tat py4j.commands.AbstractCommand.invokeMethod(AbstractCommand.java:132)\n\tat py4j.commands.CallCommand.execute(CallCommand.java:79)\n\tat py4j.ClientServerConnection.waitForCommands(ClientServerConnection.java:182)\n\tat py4j.ClientServerConnection.run(ClientServerConnection.java:106)\n\tat java.base/java.lang.Thread.run(Thread.java:829)\n",
     "output_type": "error",
     "traceback": [
      "\u001b[0;31m---------------------------------------------------------------------------\u001b[0m",
      "\u001b[0;31mPy4JJavaError\u001b[0m                             Traceback (most recent call last)",
      "Input \u001b[0;32mIn [8]\u001b[0m, in \u001b[0;36m<cell line: 1>\u001b[0;34m()\u001b[0m\n\u001b[0;32m----> 1\u001b[0m ddd\u001b[38;5;241m=\u001b[39m\u001b[43mdf\u001b[49m\u001b[38;5;241;43m.\u001b[39;49m\u001b[43mtoPandas\u001b[49m\u001b[43m(\u001b[49m\u001b[43m)\u001b[49m\n\u001b[1;32m      2\u001b[0m \u001b[38;5;28mprint\u001b[39m(ddd)\n",
      "File \u001b[0;32m/usr/local/lib/python3.9/site-packages/pyspark/sql/pandas/conversion.py:205\u001b[0m, in \u001b[0;36mPandasConversionMixin.toPandas\u001b[0;34m(self)\u001b[0m\n\u001b[1;32m    202\u001b[0m             \u001b[38;5;28;01mraise\u001b[39;00m\n\u001b[1;32m    204\u001b[0m \u001b[38;5;66;03m# Below is toPandas without Arrow optimization.\u001b[39;00m\n\u001b[0;32m--> 205\u001b[0m pdf \u001b[38;5;241m=\u001b[39m pd\u001b[38;5;241m.\u001b[39mDataFrame\u001b[38;5;241m.\u001b[39mfrom_records(\u001b[38;5;28;43mself\u001b[39;49m\u001b[38;5;241;43m.\u001b[39;49m\u001b[43mcollect\u001b[49m\u001b[43m(\u001b[49m\u001b[43m)\u001b[49m, columns\u001b[38;5;241m=\u001b[39m\u001b[38;5;28mself\u001b[39m\u001b[38;5;241m.\u001b[39mcolumns)\n\u001b[1;32m    206\u001b[0m column_counter \u001b[38;5;241m=\u001b[39m Counter(\u001b[38;5;28mself\u001b[39m\u001b[38;5;241m.\u001b[39mcolumns)\n\u001b[1;32m    208\u001b[0m corrected_dtypes: List[Optional[Type]] \u001b[38;5;241m=\u001b[39m [\u001b[38;5;28;01mNone\u001b[39;00m] \u001b[38;5;241m*\u001b[39m \u001b[38;5;28mlen\u001b[39m(\u001b[38;5;28mself\u001b[39m\u001b[38;5;241m.\u001b[39mschema)\n",
      "File \u001b[0;32m/usr/local/lib/python3.9/site-packages/pyspark/sql/dataframe.py:817\u001b[0m, in \u001b[0;36mDataFrame.collect\u001b[0;34m(self)\u001b[0m\n\u001b[1;32m    807\u001b[0m \u001b[38;5;124;03m\"\"\"Returns all the records as a list of :class:`Row`.\u001b[39;00m\n\u001b[1;32m    808\u001b[0m \n\u001b[1;32m    809\u001b[0m \u001b[38;5;124;03m.. versionadded:: 1.3.0\u001b[39;00m\n\u001b[0;32m   (...)\u001b[0m\n\u001b[1;32m    814\u001b[0m \u001b[38;5;124;03m[Row(age=2, name='Alice'), Row(age=5, name='Bob')]\u001b[39;00m\n\u001b[1;32m    815\u001b[0m \u001b[38;5;124;03m\"\"\"\u001b[39;00m\n\u001b[1;32m    816\u001b[0m \u001b[38;5;28;01mwith\u001b[39;00m SCCallSiteSync(\u001b[38;5;28mself\u001b[39m\u001b[38;5;241m.\u001b[39m_sc):\n\u001b[0;32m--> 817\u001b[0m     sock_info \u001b[38;5;241m=\u001b[39m \u001b[38;5;28;43mself\u001b[39;49m\u001b[38;5;241;43m.\u001b[39;49m\u001b[43m_jdf\u001b[49m\u001b[38;5;241;43m.\u001b[39;49m\u001b[43mcollectToPython\u001b[49m\u001b[43m(\u001b[49m\u001b[43m)\u001b[49m\n\u001b[1;32m    818\u001b[0m \u001b[38;5;28;01mreturn\u001b[39;00m \u001b[38;5;28mlist\u001b[39m(_load_from_socket(sock_info, BatchedSerializer(CPickleSerializer())))\n",
      "File \u001b[0;32m/usr/local/lib/python3.9/site-packages/py4j/java_gateway.py:1321\u001b[0m, in \u001b[0;36mJavaMember.__call__\u001b[0;34m(self, *args)\u001b[0m\n\u001b[1;32m   1315\u001b[0m command \u001b[38;5;241m=\u001b[39m proto\u001b[38;5;241m.\u001b[39mCALL_COMMAND_NAME \u001b[38;5;241m+\u001b[39m\\\n\u001b[1;32m   1316\u001b[0m     \u001b[38;5;28mself\u001b[39m\u001b[38;5;241m.\u001b[39mcommand_header \u001b[38;5;241m+\u001b[39m\\\n\u001b[1;32m   1317\u001b[0m     args_command \u001b[38;5;241m+\u001b[39m\\\n\u001b[1;32m   1318\u001b[0m     proto\u001b[38;5;241m.\u001b[39mEND_COMMAND_PART\n\u001b[1;32m   1320\u001b[0m answer \u001b[38;5;241m=\u001b[39m \u001b[38;5;28mself\u001b[39m\u001b[38;5;241m.\u001b[39mgateway_client\u001b[38;5;241m.\u001b[39msend_command(command)\n\u001b[0;32m-> 1321\u001b[0m return_value \u001b[38;5;241m=\u001b[39m \u001b[43mget_return_value\u001b[49m\u001b[43m(\u001b[49m\n\u001b[1;32m   1322\u001b[0m \u001b[43m    \u001b[49m\u001b[43manswer\u001b[49m\u001b[43m,\u001b[49m\u001b[43m \u001b[49m\u001b[38;5;28;43mself\u001b[39;49m\u001b[38;5;241;43m.\u001b[39;49m\u001b[43mgateway_client\u001b[49m\u001b[43m,\u001b[49m\u001b[43m \u001b[49m\u001b[38;5;28;43mself\u001b[39;49m\u001b[38;5;241;43m.\u001b[39;49m\u001b[43mtarget_id\u001b[49m\u001b[43m,\u001b[49m\u001b[43m \u001b[49m\u001b[38;5;28;43mself\u001b[39;49m\u001b[38;5;241;43m.\u001b[39;49m\u001b[43mname\u001b[49m\u001b[43m)\u001b[49m\n\u001b[1;32m   1324\u001b[0m \u001b[38;5;28;01mfor\u001b[39;00m temp_arg \u001b[38;5;129;01min\u001b[39;00m temp_args:\n\u001b[1;32m   1325\u001b[0m     temp_arg\u001b[38;5;241m.\u001b[39m_detach()\n",
      "File \u001b[0;32m/usr/local/lib/python3.9/site-packages/pyspark/sql/utils.py:190\u001b[0m, in \u001b[0;36mcapture_sql_exception.<locals>.deco\u001b[0;34m(*a, **kw)\u001b[0m\n\u001b[1;32m    188\u001b[0m \u001b[38;5;28;01mdef\u001b[39;00m \u001b[38;5;21mdeco\u001b[39m(\u001b[38;5;241m*\u001b[39ma: Any, \u001b[38;5;241m*\u001b[39m\u001b[38;5;241m*\u001b[39mkw: Any) \u001b[38;5;241m-\u001b[39m\u001b[38;5;241m>\u001b[39m Any:\n\u001b[1;32m    189\u001b[0m     \u001b[38;5;28;01mtry\u001b[39;00m:\n\u001b[0;32m--> 190\u001b[0m         \u001b[38;5;28;01mreturn\u001b[39;00m \u001b[43mf\u001b[49m\u001b[43m(\u001b[49m\u001b[38;5;241;43m*\u001b[39;49m\u001b[43ma\u001b[49m\u001b[43m,\u001b[49m\u001b[43m \u001b[49m\u001b[38;5;241;43m*\u001b[39;49m\u001b[38;5;241;43m*\u001b[39;49m\u001b[43mkw\u001b[49m\u001b[43m)\u001b[49m\n\u001b[1;32m    191\u001b[0m     \u001b[38;5;28;01mexcept\u001b[39;00m Py4JJavaError \u001b[38;5;28;01mas\u001b[39;00m e:\n\u001b[1;32m    192\u001b[0m         converted \u001b[38;5;241m=\u001b[39m convert_exception(e\u001b[38;5;241m.\u001b[39mjava_exception)\n",
      "File \u001b[0;32m/usr/local/lib/python3.9/site-packages/py4j/protocol.py:326\u001b[0m, in \u001b[0;36mget_return_value\u001b[0;34m(answer, gateway_client, target_id, name)\u001b[0m\n\u001b[1;32m    324\u001b[0m value \u001b[38;5;241m=\u001b[39m OUTPUT_CONVERTER[\u001b[38;5;28mtype\u001b[39m](answer[\u001b[38;5;241m2\u001b[39m:], gateway_client)\n\u001b[1;32m    325\u001b[0m \u001b[38;5;28;01mif\u001b[39;00m answer[\u001b[38;5;241m1\u001b[39m] \u001b[38;5;241m==\u001b[39m REFERENCE_TYPE:\n\u001b[0;32m--> 326\u001b[0m     \u001b[38;5;28;01mraise\u001b[39;00m Py4JJavaError(\n\u001b[1;32m    327\u001b[0m         \u001b[38;5;124m\"\u001b[39m\u001b[38;5;124mAn error occurred while calling \u001b[39m\u001b[38;5;132;01m{0}\u001b[39;00m\u001b[38;5;132;01m{1}\u001b[39;00m\u001b[38;5;132;01m{2}\u001b[39;00m\u001b[38;5;124m.\u001b[39m\u001b[38;5;130;01m\\n\u001b[39;00m\u001b[38;5;124m\"\u001b[39m\u001b[38;5;241m.\u001b[39m\n\u001b[1;32m    328\u001b[0m         \u001b[38;5;28mformat\u001b[39m(target_id, \u001b[38;5;124m\"\u001b[39m\u001b[38;5;124m.\u001b[39m\u001b[38;5;124m\"\u001b[39m, name), value)\n\u001b[1;32m    329\u001b[0m \u001b[38;5;28;01melse\u001b[39;00m:\n\u001b[1;32m    330\u001b[0m     \u001b[38;5;28;01mraise\u001b[39;00m Py4JError(\n\u001b[1;32m    331\u001b[0m         \u001b[38;5;124m\"\u001b[39m\u001b[38;5;124mAn error occurred while calling \u001b[39m\u001b[38;5;132;01m{0}\u001b[39;00m\u001b[38;5;132;01m{1}\u001b[39;00m\u001b[38;5;132;01m{2}\u001b[39;00m\u001b[38;5;124m. Trace:\u001b[39m\u001b[38;5;130;01m\\n\u001b[39;00m\u001b[38;5;132;01m{3}\u001b[39;00m\u001b[38;5;130;01m\\n\u001b[39;00m\u001b[38;5;124m\"\u001b[39m\u001b[38;5;241m.\u001b[39m\n\u001b[1;32m    332\u001b[0m         \u001b[38;5;28mformat\u001b[39m(target_id, \u001b[38;5;124m\"\u001b[39m\u001b[38;5;124m.\u001b[39m\u001b[38;5;124m\"\u001b[39m, name, value))\n",
      "\u001b[0;31mPy4JJavaError\u001b[0m: An error occurred while calling o50.collectToPython.\n: org.apache.spark.SparkException: Job aborted due to stage failure: Total size of serialized results of 5 tasks (1086.6 MiB) is bigger than spark.driver.maxResultSize (1024.0 MiB)\n\tat org.apache.spark.scheduler.DAGScheduler.failJobAndIndependentStages(DAGScheduler.scala:2672)\n\tat org.apache.spark.scheduler.DAGScheduler.$anonfun$abortStage$2(DAGScheduler.scala:2608)\n\tat org.apache.spark.scheduler.DAGScheduler.$anonfun$abortStage$2$adapted(DAGScheduler.scala:2607)\n\tat scala.collection.mutable.ResizableArray.foreach(ResizableArray.scala:62)\n\tat scala.collection.mutable.ResizableArray.foreach$(ResizableArray.scala:55)\n\tat scala.collection.mutable.ArrayBuffer.foreach(ArrayBuffer.scala:49)\n\tat org.apache.spark.scheduler.DAGScheduler.abortStage(DAGScheduler.scala:2607)\n\tat org.apache.spark.scheduler.DAGScheduler.$anonfun$handleTaskSetFailed$1(DAGScheduler.scala:1182)\n\tat org.apache.spark.scheduler.DAGScheduler.$anonfun$handleTaskSetFailed$1$adapted(DAGScheduler.scala:1182)\n\tat scala.Option.foreach(Option.scala:407)\n\tat org.apache.spark.scheduler.DAGScheduler.handleTaskSetFailed(DAGScheduler.scala:1182)\n\tat org.apache.spark.scheduler.DAGSchedulerEventProcessLoop.doOnReceive(DAGScheduler.scala:2860)\n\tat org.apache.spark.scheduler.DAGSchedulerEventProcessLoop.onReceive(DAGScheduler.scala:2802)\n\tat org.apache.spark.scheduler.DAGSchedulerEventProcessLoop.onReceive(DAGScheduler.scala:2791)\n\tat org.apache.spark.util.EventLoop$$anon$1.run(EventLoop.scala:49)\n\tat org.apache.spark.scheduler.DAGScheduler.runJob(DAGScheduler.scala:952)\n\tat org.apache.spark.SparkContext.runJob(SparkContext.scala:2228)\n\tat org.apache.spark.SparkContext.runJob(SparkContext.scala:2249)\n\tat org.apache.spark.SparkContext.runJob(SparkContext.scala:2268)\n\tat org.apache.spark.SparkContext.runJob(SparkContext.scala:2293)\n\tat org.apache.spark.rdd.RDD.$anonfun$collect$1(RDD.scala:1021)\n\tat org.apache.spark.rdd.RDDOperationScope$.withScope(RDDOperationScope.scala:151)\n\tat org.apache.spark.rdd.RDDOperationScope$.withScope(RDDOperationScope.scala:112)\n\tat org.apache.spark.rdd.RDD.withScope(RDD.scala:406)\n\tat org.apache.spark.rdd.RDD.collect(RDD.scala:1020)\n\tat org.apache.spark.sql.execution.SparkPlan.executeCollect(SparkPlan.scala:424)\n\tat org.apache.spark.sql.Dataset.$anonfun$collectToPython$1(Dataset.scala:3688)\n\tat org.apache.spark.sql.Dataset.$anonfun$withAction$2(Dataset.scala:3858)\n\tat org.apache.spark.sql.execution.QueryExecution$.withInternalError(QueryExecution.scala:510)\n\tat org.apache.spark.sql.Dataset.$anonfun$withAction$1(Dataset.scala:3856)\n\tat org.apache.spark.sql.execution.SQLExecution$.$anonfun$withNewExecutionId$6(SQLExecution.scala:109)\n\tat org.apache.spark.sql.execution.SQLExecution$.withSQLConfPropagated(SQLExecution.scala:169)\n\tat org.apache.spark.sql.execution.SQLExecution$.$anonfun$withNewExecutionId$1(SQLExecution.scala:95)\n\tat org.apache.spark.sql.SparkSession.withActive(SparkSession.scala:779)\n\tat org.apache.spark.sql.execution.SQLExecution$.withNewExecutionId(SQLExecution.scala:64)\n\tat org.apache.spark.sql.Dataset.withAction(Dataset.scala:3856)\n\tat org.apache.spark.sql.Dataset.collectToPython(Dataset.scala:3685)\n\tat java.base/jdk.internal.reflect.NativeMethodAccessorImpl.invoke0(Native Method)\n\tat java.base/jdk.internal.reflect.NativeMethodAccessorImpl.invoke(NativeMethodAccessorImpl.java:62)\n\tat java.base/jdk.internal.reflect.DelegatingMethodAccessorImpl.invoke(DelegatingMethodAccessorImpl.java:43)\n\tat java.base/java.lang.reflect.Method.invoke(Method.java:566)\n\tat py4j.reflection.MethodInvoker.invoke(MethodInvoker.java:244)\n\tat py4j.reflection.ReflectionEngine.invoke(ReflectionEngine.java:357)\n\tat py4j.Gateway.invoke(Gateway.java:282)\n\tat py4j.commands.AbstractCommand.invokeMethod(AbstractCommand.java:132)\n\tat py4j.commands.CallCommand.execute(CallCommand.java:79)\n\tat py4j.ClientServerConnection.waitForCommands(ClientServerConnection.java:182)\n\tat py4j.ClientServerConnection.run(ClientServerConnection.java:106)\n\tat java.base/java.lang.Thread.run(Thread.java:829)\n"
     ]
    }
   ],
   "source": [
    "ddd=df.toPandas()\n",
    "print(ddd)"
   ]
  },
  {
   "cell_type": "code",
   "execution_count": 12,
   "id": "6184b57a",
   "metadata": {},
   "outputs": [],
   "source": [
    "#df_vo = spark.sql(\"select date, sum(case when action = 'restore' then 1 else 0 END) as restores, vo FROM billing where errorcode = 0  group by date ,vo order by vo, date asc;\")"
   ]
  },
  {
   "cell_type": "code",
   "execution_count": 9,
   "id": "144d5fef",
   "metadata": {},
   "outputs": [
    {
     "name": "stderr",
     "output_type": "stream",
     "text": [
      "[Stage 6:==========>                                               (3 + 1) / 16]\r"
     ]
    },
    {
     "name": "stdout",
     "output_type": "stream",
     "text": [
      "+-------+-------------------+\n",
      "|     vo|avg_time_to_restore|\n",
      "+-------+-------------------+\n",
      "|     d0|        1.4840294E7|\n",
      "| icarus|  7714167.673675048|\n",
      "|   e906|    6185491.1633179|\n",
      "|   dune|   6150917.24556055|\n",
      "|   sbnd|  5773983.352257636|\n",
      "|   none|  4617079.856206059|\n",
      "|    GM2| 2869104.0671820277|\n",
      "|minerva|  2681377.408546131|\n",
      "|   nova|  2568779.304430466|\n",
      "|   test| 1968762.2222222222|\n",
      "|   mu2e| 1809194.8626814822|\n",
      "|  annie|  1717745.610091743|\n",
      "|accelai| 1541845.5476190476|\n",
      "| uboone| 1522493.5707756563|\n",
      "|    des|       1399815.8125|\n",
      "| lariat|  906799.9126108958|\n",
      "|   lqcd|   620186.840153842|\n",
      "|   ADMX|  529561.3333333334|\n",
      "|snoplus|           435404.5|\n",
      "|  numix| 278734.71237035166|\n",
      "+-------+-------------------+\n",
      "only showing top 20 rows\n",
      "\n"
     ]
    },
    {
     "name": "stderr",
     "output_type": "stream",
     "text": [
      "[Stage 6:==========>                                               (3 + 1) / 16]\r"
     ]
    }
   ],
   "source": [
    "df_vo = spark.sql(\"SELECT vo  , AVG(connectiontime + queuedtime) as avg_time_to_restore FROM storage WHERE action='restore' and errorcode = 0 group by vo order by avg_time_to_restore desc;  \")\n",
    "df_vo.show()"
   ]
  },
  {
   "cell_type": "code",
   "execution_count": null,
   "id": "b18b2c6d",
   "metadata": {},
   "outputs": [],
   "source": []
  },
  {
   "cell_type": "code",
   "execution_count": null,
   "id": "37bfe884",
   "metadata": {},
   "outputs": [],
   "source": [
    "# df_vo_bp = spark.sql(\"SELECT vo , connectiontime  FROM billing WHERE action='restore' and errorcode = 0 group by vo, connectiontime\")\n",
    "# df_vo_bp.show()\n"
   ]
  },
  {
   "cell_type": "code",
   "execution_count": null,
   "id": "31a1e003",
   "metadata": {},
   "outputs": [],
   "source": [
    "# df_vo_bp.describe().show()"
   ]
  },
  {
   "cell_type": "code",
   "execution_count": null,
   "id": "32ef85af",
   "metadata": {},
   "outputs": [],
   "source": [
    "# df_vo_bp=df_vo_bp.groupBy(\"vo\").sum()\n",
    "# df_vo_bp.show()"
   ]
  },
  {
   "cell_type": "code",
   "execution_count": 1,
   "id": "f357c0ac",
   "metadata": {},
   "outputs": [],
   "source": [
    "# dd=df_vo_bp.toPandas()\n",
    "# print(dd)"
   ]
  },
  {
   "cell_type": "code",
   "execution_count": 2,
   "id": "6c7c321f",
   "metadata": {},
   "outputs": [],
   "source": [
    "# dd.boxplot( by='vo', grid = False, color='blue',figsize=(24,12))\n",
    "# plt.xlabel(\"vo\")\n",
    "# #plt.ylabel(\"avg_time_to_restore\" ,fontsize=24)\n",
    "# #plt.savefig('avg_time_to_restore_per_vo.png' ,fontsize=24)\n",
    "# #plt.rcParams.update({'font.size': 14})\n",
    "# #plt.xticks(rotation=90)\n",
    "# plt.show()"
   ]
  },
  {
   "cell_type": "code",
   "execution_count": 75,
   "id": "895b5cd5",
   "metadata": {},
   "outputs": [],
   "source": [
    "#select connectiontime+queuedtime from storageinfo where errorcode = 0 and datestamp > '2022-06-01 00:00:00'  and storageclass like 'GM2%' and action = 'restore';"
   ]
  },
  {
   "cell_type": "code",
   "execution_count": 10,
   "id": "399c76fa",
   "metadata": {},
   "outputs": [
    {
     "name": "stderr",
     "output_type": "stream",
     "text": [
      "                                                                                \r"
     ]
    },
    {
     "data": {
      "text/plain": [
       "27"
      ]
     },
     "execution_count": 10,
     "metadata": {},
     "output_type": "execute_result"
    },
    {
     "name": "stderr",
     "output_type": "stream",
     "text": [
      "[Stage 6:==========>                                               (3 + 1) / 16]\r"
     ]
    }
   ],
   "source": [
    "df_vo.count()\n"
   ]
  },
  {
   "cell_type": "code",
   "execution_count": 11,
   "id": "41e0aecf",
   "metadata": {},
   "outputs": [
    {
     "name": "stderr",
     "output_type": "stream",
     "text": [
      "[Stage 6:==========>                                               (3 + 1) / 16]\r"
     ]
    },
    {
     "name": "stdout",
     "output_type": "stream",
     "text": [
      "          vo  avg_time_to_restore\n",
      "0         d0         1.484029e+07\n",
      "1     icarus         7.714168e+06\n",
      "2       e906         6.185491e+06\n",
      "3       dune         6.150917e+06\n",
      "4       sbnd         5.773983e+06\n",
      "5       none         4.617080e+06\n",
      "6        GM2         2.869104e+06\n",
      "7    minerva         2.681377e+06\n",
      "8       nova         2.568779e+06\n",
      "9       test         1.968762e+06\n",
      "10      mu2e         1.809195e+06\n",
      "11     annie         1.717746e+06\n",
      "12   accelai         1.541846e+06\n",
      "13    uboone         1.522494e+06\n",
      "14       des         1.399816e+06\n",
      "15    lariat         9.067999e+05\n",
      "16      lqcd         6.201868e+05\n",
      "17      ADMX         5.295613e+05\n",
      "18   snoplus         4.354045e+05\n",
      "19     numix         2.787347e+05\n",
      "20    Simons         2.403731e+05\n",
      "21   backups         2.280980e+05\n",
      "22     damic         1.582876e+05\n",
      "23     scope         1.527230e+05\n",
      "24   netflow         1.011856e+05\n",
      "25     minos         9.164858e+04\n",
      "26  darkside         1.325938e+04\n"
     ]
    },
    {
     "name": "stderr",
     "output_type": "stream",
     "text": [
      "[Stage 6:==========>                                               (3 + 1) / 16]\r"
     ]
    }
   ],
   "source": [
    "d1=df_vo.toPandas()\n",
    "print(d1)"
   ]
  },
  {
   "cell_type": "code",
   "execution_count": 4,
   "id": "bd2172e2",
   "metadata": {},
   "outputs": [],
   "source": [
    "# d6=df_vo_bp.toPandas()\n",
    "# print(d6)"
   ]
  },
  {
   "cell_type": "code",
   "execution_count": null,
   "id": "4246ccee",
   "metadata": {},
   "outputs": [],
   "source": []
  },
  {
   "cell_type": "code",
   "execution_count": 5,
   "id": "b9123773",
   "metadata": {},
   "outputs": [],
   "source": [
    "# d6['time_to_restore']=d6['time_to_restore'].div(1000)\n",
    "# d6=d6.sort_values(by=['time_to_restore'], ascending=False)\n",
    "# print(d6)"
   ]
  },
  {
   "cell_type": "code",
   "execution_count": 12,
   "id": "30539fef",
   "metadata": {},
   "outputs": [],
   "source": [
    "d1['avg_time_to_restore']=d1['avg_time_to_restore'].div(1000)"
   ]
  },
  {
   "cell_type": "code",
   "execution_count": 13,
   "id": "c47f8071",
   "metadata": {},
   "outputs": [
    {
     "name": "stdout",
     "output_type": "stream",
     "text": [
      "          vo  avg_time_to_restore\n",
      "0         d0         14840.294000\n",
      "1     icarus          7714.167674\n",
      "2       e906          6185.491163\n",
      "3       dune          6150.917246\n",
      "4       sbnd          5773.983352\n",
      "5       none          4617.079856\n",
      "6        GM2          2869.104067\n",
      "7    minerva          2681.377409\n",
      "8       nova          2568.779304\n",
      "9       test          1968.762222\n",
      "10      mu2e          1809.194863\n",
      "11     annie          1717.745610\n",
      "12   accelai          1541.845548\n",
      "13    uboone          1522.493571\n",
      "14       des          1399.815812\n",
      "15    lariat           906.799913\n",
      "16      lqcd           620.186840\n",
      "17      ADMX           529.561333\n",
      "18   snoplus           435.404500\n",
      "19     numix           278.734712\n",
      "20    Simons           240.373088\n",
      "21   backups           228.098000\n",
      "22     damic           158.287556\n",
      "23     scope           152.723000\n",
      "24   netflow           101.185557\n",
      "25     minos            91.648581\n",
      "26  darkside            13.259379\n"
     ]
    }
   ],
   "source": [
    "d1=d1.sort_values(by=['avg_time_to_restore'], ascending=False)\n",
    "print(d1)"
   ]
  },
  {
   "cell_type": "code",
   "execution_count": null,
   "id": "8bb6aad8",
   "metadata": {},
   "outputs": [],
   "source": []
  },
  {
   "cell_type": "code",
   "execution_count": 6,
   "id": "c1c5c523",
   "metadata": {},
   "outputs": [],
   "source": [
    "# d6.boxplot( by='vo', grid = False, color='blue',figsize=(24,12))\n",
    "# plt.xlabel(\"vo\")\n",
    "# #plt.ylabel(\"avg_time_to_restore\" ,fontsize=24)\n",
    "# #plt.savefig('avg_time_to_restore_per_vo.png' ,fontsize=24)\n",
    "# #plt.rcParams.update({'font.size': 14})\n",
    "# #plt.xticks(rotation=90)\n",
    "# plt.show()"
   ]
  },
  {
   "cell_type": "code",
   "execution_count": null,
   "id": "2a7920e4",
   "metadata": {},
   "outputs": [],
   "source": []
  },
  {
   "cell_type": "code",
   "execution_count": 21,
   "id": "ac4e1c45",
   "metadata": {},
   "outputs": [
    {
     "data": {
      "text/plain": [
       "<AxesSubplot:xlabel='vo'>"
      ]
     },
     "execution_count": 21,
     "metadata": {},
     "output_type": "execute_result"
    },
    {
     "data": {
      "text/plain": [
       "Text(0.5, 0, 'vo')"
      ]
     },
     "execution_count": 21,
     "metadata": {},
     "output_type": "execute_result"
    },
    {
     "data": {
      "text/plain": [
       "Text(0, 0.5, 'avg_time_to_restore')"
      ]
     },
     "execution_count": 21,
     "metadata": {},
     "output_type": "execute_result"
    },
    {
     "data": {
      "text/plain": [
       "Text(0.5, 0, 'vo')"
      ]
     },
     "execution_count": 21,
     "metadata": {},
     "output_type": "execute_result"
    },
    {
     "name": "stderr",
     "output_type": "stream",
     "text": [
      "/tmp/ipykernel_212089/1237727088.py:5: MatplotlibDeprecationWarning: savefig() got unexpected keyword argument \"fontsize\" which is no longer supported as of 3.3 and will become an error in 3.6\n",
      "  plt.savefig('avg_time_to_restore_per_vo.png' ,fontsize=24)\n"
     ]
    },
    {
     "data": {
      "text/plain": [
       "(array([ 0,  1,  2,  3,  4,  5,  6,  7,  8,  9, 10, 11, 12, 13, 14, 15, 16,\n",
       "        17, 18, 19, 20, 21, 22, 23, 24, 25, 26]),\n",
       " [Text(0, 0, 'd0'),\n",
       "  Text(1, 0, 'icarus'),\n",
       "  Text(2, 0, 'e906'),\n",
       "  Text(3, 0, 'dune'),\n",
       "  Text(4, 0, 'sbnd'),\n",
       "  Text(5, 0, 'none'),\n",
       "  Text(6, 0, 'GM2'),\n",
       "  Text(7, 0, 'minerva'),\n",
       "  Text(8, 0, 'nova'),\n",
       "  Text(9, 0, 'test'),\n",
       "  Text(10, 0, 'mu2e'),\n",
       "  Text(11, 0, 'annie'),\n",
       "  Text(12, 0, 'accelai'),\n",
       "  Text(13, 0, 'uboone'),\n",
       "  Text(14, 0, 'des'),\n",
       "  Text(15, 0, 'lariat'),\n",
       "  Text(16, 0, 'lqcd'),\n",
       "  Text(17, 0, 'ADMX'),\n",
       "  Text(18, 0, 'snoplus'),\n",
       "  Text(19, 0, 'numix'),\n",
       "  Text(20, 0, 'Simons'),\n",
       "  Text(21, 0, 'backups'),\n",
       "  Text(22, 0, 'damic'),\n",
       "  Text(23, 0, 'scope'),\n",
       "  Text(24, 0, 'netflow'),\n",
       "  Text(25, 0, 'minos'),\n",
       "  Text(26, 0, 'darkside')])"
      ]
     },
     "execution_count": 21,
     "metadata": {},
     "output_type": "execute_result"
    },
    {
     "data": {
      "image/png": "[encoded data removed]",
      "text/plain": [
       "<Figure size 864x432 with 1 Axes>"
      ]
     },
     "metadata": {
      "needs_background": "light"
     },
     "output_type": "display_data"
    },
    {
     "name": "stderr",
     "output_type": "stream",
     "text": [
      "[Stage 6:==========>                                               (3 + 1) / 16]\r"
     ]
    }
   ],
   "source": [
    "d1.plot.bar(x='vo', y='avg_time_to_restore' ,figsize=(12,6), color='blue',edgecolor = 'black', alpha=0.5 ,align='center', width=-0.4)\n",
    "plt.xlabel(\"vo\")\n",
    "plt.ylabel(\"avg_time_to_restore\" ,fontsize=24)\n",
    "plt.xlabel(\"vo\" ,fontsize=24)\n",
    "plt.savefig('avg_time_to_restore_per_vo.png' ,fontsize=24)\n",
    "plt.rcParams.update({'font.size': 14})\n",
    "plt.xticks(rotation=90)\n",
    "plt.show()"
   ]
  },
  {
   "cell_type": "code",
   "execution_count": 21,
   "id": "228ed00d",
   "metadata": {},
   "outputs": [
    {
     "data": {
      "text/plain": [
       "<AxesSubplot:xlabel='vo'>"
      ]
     },
     "execution_count": 21,
     "metadata": {},
     "output_type": "execute_result"
    },
    {
     "data": {
      "text/plain": [
       "Text(0.5, 0, 'vo')"
      ]
     },
     "execution_count": 21,
     "metadata": {},
     "output_type": "execute_result"
    },
    {
     "data": {
      "text/plain": [
       "Text(0, 0.5, 'avg_time_to_restore')"
      ]
     },
     "execution_count": 21,
     "metadata": {},
     "output_type": "execute_result"
    },
    {
     "name": "stderr",
     "output_type": "stream",
     "text": [
      "/tmp/ipykernel_112851/2736179990.py:4: MatplotlibDeprecationWarning: savefig() got unexpected keyword argument \"fontsize\" which is no longer supported as of 3.3 and will become an error in 3.6\n",
      "  plt.savefig('avg_time_to_restore_per_vo_6_months.png' ,fontsize=24)\n"
     ]
    },
    {
     "data": {
      "text/plain": [
       "(array([ 0,  1,  2,  3,  4,  5,  6,  7,  8,  9, 10, 11, 12, 13, 14, 15, 16,\n",
       "        17, 18, 19, 20, 21, 22, 23, 24, 25, 26]),\n",
       " [Text(0, 0, 'd0'),\n",
       "  Text(1, 0, 'icarus'),\n",
       "  Text(2, 0, 'e906'),\n",
       "  Text(3, 0, 'dune'),\n",
       "  Text(4, 0, 'sbnd'),\n",
       "  Text(5, 0, 'none'),\n",
       "  Text(6, 0, 'GM2'),\n",
       "  Text(7, 0, 'minerva'),\n",
       "  Text(8, 0, 'nova'),\n",
       "  Text(9, 0, 'test'),\n",
       "  Text(10, 0, 'mu2e'),\n",
       "  Text(11, 0, 'annie'),\n",
       "  Text(12, 0, 'accelai'),\n",
       "  Text(13, 0, 'uboone'),\n",
       "  Text(14, 0, 'des'),\n",
       "  Text(15, 0, 'lariat'),\n",
       "  Text(16, 0, 'lqcd'),\n",
       "  Text(17, 0, 'ADMX'),\n",
       "  Text(18, 0, 'snoplus'),\n",
       "  Text(19, 0, 'numix'),\n",
       "  Text(20, 0, 'Simons'),\n",
       "  Text(21, 0, 'backups'),\n",
       "  Text(22, 0, 'damic'),\n",
       "  Text(23, 0, 'scope'),\n",
       "  Text(24, 0, 'netflow'),\n",
       "  Text(25, 0, 'minos'),\n",
       "  Text(26, 0, 'darkside')])"
      ]
     },
     "execution_count": 21,
     "metadata": {},
     "output_type": "execute_result"
    },
    {
     "data": {
      "image/png": "[encoded data removed]",
      "text/plain": [
       "<Figure size 1728x864 with 1 Axes>"
      ]
     },
     "metadata": {
      "needs_background": "light"
     },
     "output_type": "display_data"
    }
   ],
   "source": [
    "d1.plot.bar(x='vo', y='avg_time_to_restore' , color='blue',edgecolor = 'black', alpha=0.5 ,figsize=(24,12),align='center', width=-0.4)\n",
    "plt.xlabel(\"vo\")\n",
    "plt.ylabel(\"avg_time_to_restore\" ,fontsize=24)\n",
    "plt.savefig('avg_time_to_restore_per_vo_6_months.png' ,fontsize=24)\n",
    "plt.rcParams.update({'font.size': 14})\n",
    "plt.xticks(rotation=90)\n",
    "plt.show()"
   ]
  },
  {
   "cell_type": "code",
   "execution_count": 7,
   "id": "4815b6e6",
   "metadata": {},
   "outputs": [],
   "source": [
    "# d6.plot.bar(x='vo', y='time_to_restore' , color='blue',edgecolor = 'black', alpha=0.5 ,figsize=(24,12),align='center', width=-0.4)\n",
    "# plt.xlabel(\"vo\")\n",
    "# plt.ylabel(\"time_to_restore\" ,fontsize=24)\n",
    "# #plt.savefig('time_to_restore_per_vo.png' ,fontsize=24)\n",
    "# plt.rcParams.update({'font.size': 14})\n",
    "# plt.xticks(rotation=90)\n",
    "# plt.show()"
   ]
  },
  {
   "cell_type": "code",
   "execution_count": 22,
   "id": "7948b30b",
   "metadata": {},
   "outputs": [
    {
     "name": "stderr",
     "output_type": "stream",
     "text": [
      "[Stage 22:>                                                         (0 + 1) / 1]\r"
     ]
    },
    {
     "name": "stdout",
     "output_type": "stream",
     "text": [
      "+---------+----------------+--------------------+\n",
      "|       vo|number_of_stores|   avg_time_to_store|\n",
      "+---------+----------------+--------------------+\n",
      "|    damic|               3|2.3509389366666666E8|\n",
      "|  accelai|            5558| 1.507541329706729E8|\n",
      "|     ADMX|          261797| 1.383389659250679E8|\n",
      "|  netflow|           60280|1.2783908912352356E8|\n",
      "|   Simons|         1089287|1.2267464799590558E8|\n",
      "|      GM2|         3513864|1.1968959516386604E8|\n",
      "|fermigrid|             716|1.1452141563268156E8|\n",
      "|    e1039|             240|       1.102810774E8|\n",
      "|      des|            2197| 1.048051572312244E8|\n",
      "|    annie|           59615| 9.130090165392938E7|\n",
      "|   uboone|        14188391| 6.714972888600884E7|\n",
      "|     mu2e|          623474|  6.20553046695195E7|\n",
      "|     lqcd|          274005| 5.653114456463568E7|\n",
      "|   icarus|          573271| 5.443380440552897E7|\n",
      "|     test|            7577| 4.758882694232546E7|\n",
      "|     dune|         1209244| 3.991419395168717E7|\n",
      "|  backups|               6|         3.9859227E7|\n",
      "|     nova|         6188980| 3.838612246929009E7|\n",
      "|     e906|            7699| 3.365468837316535E7|\n",
      "|    test2|              11|2.8965944181818184E7|\n",
      "+---------+----------------+--------------------+\n",
      "only showing top 20 rows\n",
      "\n"
     ]
    },
    {
     "name": "stderr",
     "output_type": "stream",
     "text": [
      "                                                                                \r"
     ]
    }
   ],
   "source": [
    "df_vo_store = spark.sql(\"SELECT vo ,COUNT(vo) AS number_of_stores , AVG(connectiontime + queuedtime) as avg_time_to_store FROM storage WHERE action='store' and errorcode = 0 group by vo order by avg_time_to_store desc;  \")\n",
    "df_vo_store.show()"
   ]
  },
  {
   "cell_type": "code",
   "execution_count": 23,
   "id": "fd243200",
   "metadata": {},
   "outputs": [
    {
     "name": "stderr",
     "output_type": "stream",
     "text": [
      "                                                                                \r"
     ]
    },
    {
     "name": "stdout",
     "output_type": "stream",
     "text": [
      "           vo  number_of_stores  avg_time_to_store\n",
      "0       damic                 3       2.350939e+08\n",
      "1     accelai              5558       1.507541e+08\n",
      "2        ADMX            261797       1.383390e+08\n",
      "3     netflow             60280       1.278391e+08\n",
      "4      Simons           1089287       1.226746e+08\n",
      "5         GM2           3513864       1.196896e+08\n",
      "6   fermigrid               716       1.145214e+08\n",
      "7       e1039               240       1.102811e+08\n",
      "8         des              2197       1.048052e+08\n",
      "9       annie             59615       9.130090e+07\n",
      "10     uboone          14188391       6.714973e+07\n",
      "11       mu2e            623474       6.205530e+07\n",
      "12       lqcd            274005       5.653114e+07\n",
      "13     icarus            573271       5.443380e+07\n",
      "14       test              7577       4.758883e+07\n",
      "15       dune           1209244       3.991419e+07\n",
      "16    backups                 6       3.985923e+07\n",
      "17       nova           6188980       3.838612e+07\n",
      "18       e906              7699       3.365469e+07\n",
      "19      test2                11       2.896594e+07\n",
      "20     lariat              5792       1.426591e+07\n",
      "21    snoplus             65781       5.320634e+06\n",
      "22    minerva               443       5.072616e+06\n",
      "23       sbnd                 1       4.062713e+06\n",
      "24      minos               736       1.248833e+06\n",
      "25       next             23774       6.599206e+04\n",
      "26   darkside                 2       1.460500e+03\n"
     ]
    }
   ],
   "source": [
    "d2=df_vo_store.toPandas()\n",
    "print(d2)"
   ]
  },
  {
   "cell_type": "code",
   "execution_count": 24,
   "id": "4d761dd8",
   "metadata": {},
   "outputs": [
    {
     "name": "stdout",
     "output_type": "stream",
     "text": [
      "           vo  number_of_stores  avg_time_to_store\n",
      "0       damic                 3      235093.893667\n",
      "1     accelai              5558      150754.132971\n",
      "2        ADMX            261797      138338.965925\n",
      "3     netflow             60280      127839.089124\n",
      "4      Simons           1089287      122674.647996\n",
      "5         GM2           3513864      119689.595164\n",
      "6   fermigrid               716      114521.415633\n",
      "7       e1039               240      110281.077400\n",
      "8         des              2197      104805.157231\n",
      "9       annie             59615       91300.901654\n",
      "10     uboone          14188391       67149.728886\n",
      "11       mu2e            623474       62055.304670\n",
      "12       lqcd            274005       56531.144565\n",
      "13     icarus            573271       54433.804406\n",
      "14       test              7577       47588.826942\n",
      "15       dune           1209244       39914.193952\n",
      "16    backups                 6       39859.227000\n",
      "17       nova           6188980       38386.122469\n",
      "18       e906              7699       33654.688373\n",
      "19      test2                11       28965.944182\n",
      "20     lariat              5792       14265.912081\n",
      "21    snoplus             65781        5320.633554\n",
      "22    minerva               443        5072.616449\n",
      "23       sbnd                 1        4062.713000\n",
      "24      minos               736        1248.832704\n",
      "25       next             23774          65.992061\n",
      "26   darkside                 2           1.460500\n"
     ]
    }
   ],
   "source": [
    "d2['avg_time_to_store']=d2['avg_time_to_store'].div(1000)\n",
    "print(d2)"
   ]
  },
  {
   "cell_type": "code",
   "execution_count": 102,
   "id": "c67e823d",
   "metadata": {},
   "outputs": [
    {
     "data": {
      "text/plain": [
       "<AxesSubplot:xlabel='vo'>"
      ]
     },
     "execution_count": 102,
     "metadata": {},
     "output_type": "execute_result"
    },
    {
     "data": {
      "text/plain": [
       "Text(0.5, 0, 'vo')"
      ]
     },
     "execution_count": 102,
     "metadata": {},
     "output_type": "execute_result"
    },
    {
     "data": {
      "text/plain": [
       "Text(0, 0.5, 'avg_time_to_store')"
      ]
     },
     "execution_count": 102,
     "metadata": {},
     "output_type": "execute_result"
    },
    {
     "name": "stderr",
     "output_type": "stream",
     "text": [
      "/tmp/ipykernel_259211/2499800147.py:4: MatplotlibDeprecationWarning: savefig() got unexpected keyword argument \"fontsize\" which is no longer supported as of 3.3 and will become an error in 3.6\n",
      "  plt.savefig('avg_time_to_store_per_vo.png' ,fontsize=24)\n"
     ]
    },
    {
     "data": {
      "text/plain": [
       "(array([ 0,  1,  2,  3,  4,  5,  6,  7,  8,  9, 10, 11, 12, 13, 14, 15, 16,\n",
       "        17, 18, 19]),\n",
       " [Text(0, 0, 'test2'),\n",
       "  Text(1, 0, 'uboone'),\n",
       "  Text(2, 0, 'e1039'),\n",
       "  Text(3, 0, 'des'),\n",
       "  Text(4, 0, 'fermigrid'),\n",
       "  Text(5, 0, 'accelai'),\n",
       "  Text(6, 0, 'nova'),\n",
       "  Text(7, 0, 'dune'),\n",
       "  Text(8, 0, 'GM2'),\n",
       "  Text(9, 0, 'annie'),\n",
       "  Text(10, 0, 'test'),\n",
       "  Text(11, 0, 'mu2e'),\n",
       "  Text(12, 0, 'icarus'),\n",
       "  Text(13, 0, 'Simons'),\n",
       "  Text(14, 0, 'snoplus'),\n",
       "  Text(15, 0, 'backups'),\n",
       "  Text(16, 0, 'lqcd'),\n",
       "  Text(17, 0, 'lariat'),\n",
       "  Text(18, 0, 'next'),\n",
       "  Text(19, 0, 'darkside')])"
      ]
     },
     "execution_count": 102,
     "metadata": {},
     "output_type": "execute_result"
    },
    {
     "data": {
      "image/png": "[encoded data removed]",
      "text/plain": [
       "<Figure size 1728x864 with 1 Axes>"
      ]
     },
     "metadata": {
      "needs_background": "light"
     },
     "output_type": "display_data"
    }
   ],
   "source": [
    "d2.plot.bar(x='vo', y='avg_time_to_store' , color='blue',edgecolor = 'black', alpha=0.5 ,figsize=(24,12),align='center', width=-0.4)\n",
    "plt.xlabel(\"vo\")\n",
    "plt.ylabel(\"avg_time_to_store\" ,fontsize=24)\n",
    "plt.savefig('avg_time_to_store_per_vo.png' ,fontsize=24)\n",
    "plt.rcParams.update({'font.size': 14})\n",
    "plt.xticks(rotation=90)\n",
    "plt.show()"
   ]
  },
  {
   "cell_type": "code",
   "execution_count": 25,
   "id": "01100fb3",
   "metadata": {},
   "outputs": [
    {
     "data": {
      "text/plain": [
       "<AxesSubplot:xlabel='vo'>"
      ]
     },
     "execution_count": 25,
     "metadata": {},
     "output_type": "execute_result"
    },
    {
     "data": {
      "text/plain": [
       "Text(0.5, 0, 'vo')"
      ]
     },
     "execution_count": 25,
     "metadata": {},
     "output_type": "execute_result"
    },
    {
     "data": {
      "text/plain": [
       "Text(0, 0.5, 'avg_time_to_store')"
      ]
     },
     "execution_count": 25,
     "metadata": {},
     "output_type": "execute_result"
    },
    {
     "name": "stderr",
     "output_type": "stream",
     "text": [
      "/tmp/ipykernel_112851/1609889685.py:4: MatplotlibDeprecationWarning: savefig() got unexpected keyword argument \"fontsize\" which is no longer supported as of 3.3 and will become an error in 3.6\n",
      "  plt.savefig('avg_time_to_store_per_vo_6_months.png' ,fontsize=24)\n"
     ]
    },
    {
     "data": {
      "text/plain": [
       "(array([ 0,  1,  2,  3,  4,  5,  6,  7,  8,  9, 10, 11, 12, 13, 14, 15, 16,\n",
       "        17, 18, 19, 20, 21, 22, 23, 24, 25, 26]),\n",
       " [Text(0, 0, 'damic'),\n",
       "  Text(1, 0, 'accelai'),\n",
       "  Text(2, 0, 'ADMX'),\n",
       "  Text(3, 0, 'netflow'),\n",
       "  Text(4, 0, 'Simons'),\n",
       "  Text(5, 0, 'GM2'),\n",
       "  Text(6, 0, 'fermigrid'),\n",
       "  Text(7, 0, 'e1039'),\n",
       "  Text(8, 0, 'des'),\n",
       "  Text(9, 0, 'annie'),\n",
       "  Text(10, 0, 'uboone'),\n",
       "  Text(11, 0, 'mu2e'),\n",
       "  Text(12, 0, 'lqcd'),\n",
       "  Text(13, 0, 'icarus'),\n",
       "  Text(14, 0, 'test'),\n",
       "  Text(15, 0, 'dune'),\n",
       "  Text(16, 0, 'backups'),\n",
       "  Text(17, 0, 'nova'),\n",
       "  Text(18, 0, 'e906'),\n",
       "  Text(19, 0, 'test2'),\n",
       "  Text(20, 0, 'lariat'),\n",
       "  Text(21, 0, 'snoplus'),\n",
       "  Text(22, 0, 'minerva'),\n",
       "  Text(23, 0, 'sbnd'),\n",
       "  Text(24, 0, 'minos'),\n",
       "  Text(25, 0, 'next'),\n",
       "  Text(26, 0, 'darkside')])"
      ]
     },
     "execution_count": 25,
     "metadata": {},
     "output_type": "execute_result"
    },
    {
     "data": {
      "image/png": "[encoded data removed]",
      "text/plain": [
       "<Figure size 1728x864 with 1 Axes>"
      ]
     },
     "metadata": {
      "needs_background": "light"
     },
     "output_type": "display_data"
    }
   ],
   "source": [
    "d2.plot.bar(x='vo', y='avg_time_to_store' , color='blue',edgecolor = 'black', alpha=0.5 ,figsize=(24,12),align='center', width=-0.4)\n",
    "plt.xlabel(\"vo\")\n",
    "plt.ylabel(\"avg_time_to_store\" ,fontsize=24)\n",
    "plt.savefig('avg_time_to_store_per_vo_6_months.png' ,fontsize=24)\n",
    "plt.rcParams.update({'font.size': 14})\n",
    "plt.xticks(rotation=90)\n",
    "plt.show()"
   ]
  },
  {
   "cell_type": "code",
   "execution_count": 103,
   "id": "a238c55c",
   "metadata": {},
   "outputs": [],
   "source": [
    "#select avg(connectiontime+queuedtime)/1000. from storageinfo where errorcode = 0 and datestamp > '2022-06-01 00:00:00'  and storageclass like 'GM2%' and action = 'restore';"
   ]
  },
  {
   "cell_type": "code",
   "execution_count": null,
   "id": "f7aee9fc",
   "metadata": {},
   "outputs": [],
   "source": []
  },
  {
   "cell_type": "code",
   "execution_count": null,
   "id": "c027c5df",
   "metadata": {},
   "outputs": [],
   "source": []
  },
  {
   "cell_type": "code",
   "execution_count": 26,
   "id": "25dbf5cb",
   "metadata": {},
   "outputs": [
    {
     "name": "stderr",
     "output_type": "stream",
     "text": [
      "[Stage 31:====================================================>   (15 + 1) / 16]\r"
     ]
    },
    {
     "name": "stdout",
     "output_type": "stream",
     "text": [
      "+-------------------+----+---------------+\n",
      "|               date|  vo|connection_time|\n",
      "+-------------------+----+---------------+\n",
      "|2022-01-19 09:00:00|mu2e|     128179.023|\n",
      "|2022-05-11 20:00:00|mu2e|     110889.563|\n",
      "|2022-05-11 17:00:00|mu2e|     108027.066|\n",
      "|2022-05-11 19:00:00|mu2e|      99632.224|\n",
      "|2022-05-11 21:00:00|mu2e|      91081.944|\n",
      "|2022-05-11 13:00:00|mu2e|       89247.43|\n",
      "|2022-05-11 16:00:00|mu2e|      88518.428|\n",
      "|2022-05-11 16:00:00|mu2e|      87427.006|\n",
      "|2022-05-11 16:00:00|mu2e|      82225.849|\n",
      "|2022-05-11 10:00:00|mu2e|      80513.648|\n",
      "|2022-05-11 13:00:00|mu2e|      79884.999|\n",
      "|2022-05-11 13:00:00|mu2e|      79807.048|\n",
      "|2022-05-11 10:00:00|mu2e|      79793.599|\n",
      "|2022-05-12 09:00:00|mu2e|      79404.433|\n",
      "|2022-05-11 16:00:00|mu2e|      79347.044|\n",
      "|2022-05-11 13:00:00|mu2e|      79135.397|\n",
      "|2022-05-11 12:00:00|mu2e|      79122.035|\n",
      "|2022-05-11 21:00:00|mu2e|      78742.416|\n",
      "|2022-05-11 11:00:00|mu2e|      78511.648|\n",
      "|2022-05-11 10:00:00|mu2e|       77016.36|\n",
      "+-------------------+----+---------------+\n",
      "only showing top 20 rows\n",
      "\n"
     ]
    },
    {
     "name": "stderr",
     "output_type": "stream",
     "text": [
      "                                                                                \r"
     ]
    }
   ],
   "source": [
    "df_vo_mu2e = spark.sql(\"SELECT date, vo , (connectiontime+queuedtime)/1000 as connection_time FROM storage WHERE action='restore' and errorcode = 0 and vo='mu2e' group by date, vo, connection_time order by connection_time desc;  \")\n",
    "df_vo_mu2e.show()"
   ]
  },
  {
   "cell_type": "code",
   "execution_count": 27,
   "id": "e9d3d624",
   "metadata": {},
   "outputs": [
    {
     "name": "stderr",
     "output_type": "stream",
     "text": [
      "[Stage 34:====================================================>   (15 + 1) / 16]\r"
     ]
    },
    {
     "name": "stdout",
     "output_type": "stream",
     "text": [
      "+-------------------+----+---------------+\n",
      "|               date|  vo|connection_time|\n",
      "+-------------------+----+---------------+\n",
      "|2022-06-21 20:00:00|mu2e|      43269.264|\n",
      "|2022-06-21 20:00:00|mu2e|      39238.272|\n",
      "|2022-06-21 20:00:00|mu2e|      39987.569|\n",
      "|2022-06-22 07:00:00|mu2e|          7.319|\n",
      "|2022-06-22 08:00:00|mu2e|      48692.107|\n",
      "|2022-06-22 08:00:00|mu2e|      42862.012|\n",
      "|2022-06-22 08:00:00|mu2e|      42629.922|\n",
      "|2022-06-22 10:00:00|mu2e|       33498.47|\n",
      "|2022-06-22 10:00:00|mu2e|         16.481|\n",
      "|2022-06-22 10:00:00|mu2e|          4.185|\n",
      "|2022-06-22 10:00:00|mu2e|      34188.115|\n",
      "|2022-06-22 12:00:00|mu2e|       8783.384|\n",
      "|2022-06-22 12:00:00|mu2e|      17249.502|\n",
      "|2022-06-22 15:00:00|mu2e|          6.212|\n",
      "|2022-06-22 16:00:00|mu2e|        456.582|\n",
      "|2022-06-22 17:00:00|mu2e|          8.413|\n",
      "|2022-06-22 17:00:00|mu2e|       5079.083|\n",
      "|2022-06-22 17:00:00|mu2e|       2444.394|\n",
      "|2022-06-22 20:00:00|mu2e|          3.555|\n",
      "|2022-06-22 20:00:00|mu2e|      26784.599|\n",
      "+-------------------+----+---------------+\n",
      "only showing top 20 rows\n",
      "\n"
     ]
    },
    {
     "name": "stderr",
     "output_type": "stream",
     "text": [
      "                                                                                \r"
     ]
    }
   ],
   "source": [
    "df_vo11 = spark.sql(\"SELECT date, vo , (connectiontime+queuedtime)/1000 as connection_time FROM billing WHERE action='restore' and errorcode = 0 and vo='mu2e' group by date, vo, connection_time   \")\n",
    "df_vo11.show()"
   ]
  },
  {
   "cell_type": "code",
   "execution_count": 105,
   "id": "8f680f11",
   "metadata": {},
   "outputs": [
    {
     "name": "stderr",
     "output_type": "stream",
     "text": [
      "                                                                                \r"
     ]
    },
    {
     "data": {
      "text/plain": [
       "17699"
      ]
     },
     "execution_count": 105,
     "metadata": {},
     "output_type": "execute_result"
    }
   ],
   "source": [
    "df_vo_mu2e.count()"
   ]
  },
  {
   "cell_type": "code",
   "execution_count": 28,
   "id": "62c95f11",
   "metadata": {},
   "outputs": [
    {
     "name": "stderr",
     "output_type": "stream",
     "text": [
      "IOPub data rate exceeded.                                                       \n",
      "The notebook server will temporarily stop sending output\n",
      "to the client in order to avoid crashing it.\n",
      "To change this limit, set the config variable\n",
      "`--NotebookApp.iopub_data_rate_limit`.\n",
      "\n",
      "Current values:\n",
      "NotebookApp.iopub_data_rate_limit=1000000.0 (bytes/sec)\n",
      "NotebookApp.rate_limit_window=3.0 (secs)\n",
      "\n"
     ]
    }
   ],
   "source": [
    "d3=df_vo11.toPandas()\n",
    "print(d3)"
   ]
  },
  {
   "cell_type": "code",
   "execution_count": 29,
   "id": "0b7dfa75",
   "metadata": {},
   "outputs": [
    {
     "name": "stderr",
     "output_type": "stream",
     "text": [
      "IOPub data rate exceeded.                                                       \n",
      "The notebook server will temporarily stop sending output\n",
      "to the client in order to avoid crashing it.\n",
      "To change this limit, set the config variable\n",
      "`--NotebookApp.iopub_data_rate_limit`.\n",
      "\n",
      "Current values:\n",
      "NotebookApp.iopub_data_rate_limit=1000000.0 (bytes/sec)\n",
      "NotebookApp.rate_limit_window=3.0 (secs)\n",
      "\n"
     ]
    }
   ],
   "source": [
    "d4=df_vo_mu2e.toPandas()\n",
    "print(d4)"
   ]
  },
  {
   "cell_type": "code",
   "execution_count": 146,
   "id": "67d96cd6",
   "metadata": {},
   "outputs": [
    {
     "name": "stdout",
     "output_type": "stream",
     "text": [
      "68398.906\n"
     ]
    }
   ],
   "source": [
    "print(d4['connection_time'].max())"
   ]
  },
  {
   "cell_type": "code",
   "execution_count": 30,
   "id": "ee316133",
   "metadata": {},
   "outputs": [
    {
     "data": {
      "text/plain": [
       "Text(0.5, 0, 'time_to_restore')"
      ]
     },
     "execution_count": 30,
     "metadata": {},
     "output_type": "execute_result"
    },
    {
     "data": {
      "image/png": "[encoded data removed]",
      "text/plain": [
       "<Figure size 1440x1152 with 1 Axes>"
      ]
     },
     "metadata": {
      "needs_background": "light"
     },
     "output_type": "display_data"
    }
   ],
   "source": [
    "ax= d3.plot.hist(bins=100, figsize=(20, 16))\n",
    "plt.xlabel(\"time_to_restore\")\n",
    "plt.savefig('hist_time_to_restore_for_mu2e.png')"
   ]
  },
  {
   "cell_type": "code",
   "execution_count": 31,
   "id": "40916b59",
   "metadata": {},
   "outputs": [
    {
     "data": {
      "image/png": "[encoded data removed]",
      "text/plain": [
       "<Figure size 1440x1152 with 1 Axes>"
      ]
     },
     "metadata": {
      "needs_background": "light"
     },
     "output_type": "display_data"
    }
   ],
   "source": [
    "ax= d4.plot.hist(bins=100, figsize=(20, 16))\n",
    "#plt.xlim(0, 68398.906)"
   ]
  },
  {
   "cell_type": "code",
   "execution_count": null,
   "id": "9250d581",
   "metadata": {},
   "outputs": [],
   "source": []
  },
  {
   "cell_type": "code",
   "execution_count": null,
   "id": "06c07682",
   "metadata": {},
   "outputs": [],
   "source": []
  },
  {
   "cell_type": "code",
   "execution_count": null,
   "id": "fde37818",
   "metadata": {},
   "outputs": [],
   "source": []
  }
 ],
 "metadata": {
  "kernelspec": {
   "display_name": "Python 3 (ipykernel)",
   "language": "python",
   "name": "python3"
  },
  "language_info": {
   "codemirror_mode": {
    "name": "ipython",
    "version": 3
   },
   "file_extension": ".py",
   "mimetype": "text/x-python",
   "name": "python",
   "nbconvert_exporter": "python",
   "pygments_lexer": "ipython3",
   "version": "3.9.6"
  }
 },
 "nbformat": 4,
 "nbformat_minor": 5
}
